{
  "nbformat": 4,
  "nbformat_minor": 0,
  "metadata": {
    "colab": {
      "name": "MyLab9",
      "provenance": [],
      "collapsed_sections": [],
      "toc_visible": true
    },
    "kernelspec": {
      "name": "python3",
      "display_name": "Python 3"
    },
    "language_info": {
      "name": "python"
    }
  },
  "cells": [
    {
      "cell_type": "code",
      "execution_count": 1,
      "metadata": {
        "id": "jTQHQ0o0BQc7"
      },
      "outputs": [],
      "source": [
        "import numpy as np\n",
        "import sympy as sp\n",
        "import copy\n",
        "import matplotlib.pyplot as plt\n",
        "import math"
      ]
    },
    {
      "cell_type": "code",
      "source": [
        "x = sp.symbols('x')\n",
        "y = sp.symbols('y')"
      ],
      "metadata": {
        "id": "JdrzEvGpBRuE"
      },
      "execution_count": 2,
      "outputs": []
    },
    {
      "cell_type": "code",
      "source": [
        "m, a = 1.5, 0.9\n",
        "eq=a*(1-y**2)/((1+m)*x**2 + y**2 + 1)"
      ],
      "metadata": {
        "id": "vmSQxvLEBXqo"
      },
      "execution_count": 87,
      "outputs": []
    },
    {
      "cell_type": "code",
      "source": [
        "eq"
      ],
      "metadata": {
        "colab": {
          "base_uri": "https://localhost:8080/",
          "height": 57
        },
        "id": "tQ0oHgDEBgie",
        "outputId": "52837ff7-d170-40c2-a0ac-404a5cc6dc93"
      },
      "execution_count": 88,
      "outputs": [
        {
          "output_type": "execute_result",
          "data": {
            "text/plain": [
              "(0.9 - 0.9*y**2)/(2.5*x**2 + y**2 + 1)"
            ],
            "text/latex": "$\\displaystyle \\frac{0.9 - 0.9 y^{2}}{2.5 x^{2} + y^{2} + 1}$"
          },
          "metadata": {},
          "execution_count": 88
        }
      ]
    },
    {
      "cell_type": "markdown",
      "source": [
        "# Реализация"
      ],
      "metadata": {
        "id": "MsEm61EFlVRK"
      }
    },
    {
      "cell_type": "code",
      "source": [
        "def Eyler(eq, y_0):\n",
        "    acc=0.001\n",
        "    # h = (1 - 0) / 10\n",
        "    h=0.1\n",
        "    x_vals = np.arange(0, 1+0.000001, h)\n",
        "    y_vals=[y_0,]\n",
        "    for i in range(len(x_vals)-1):\n",
        "        y_vals.append(y_vals[i]+h*eq.subs([(x,x_vals[i]),(y,y_vals[i])]))\n",
        "    # print(f\"{len(x_vals)}  {len(y_vals)}\\n\\n\")\n",
        "    h_new=h\n",
        "    k=2\n",
        "    flag=1\n",
        "    iter=0\n",
        "    num=0\n",
        "    while(flag==1):\n",
        "        flag=0\n",
        "        y_vals_new=[y_0,]\n",
        "        h_new=h_new/2\n",
        "        x_vals_news = np.arange(0, 1+0.000001, h_new)\n",
        "        for i in range(len(x_vals_news)-1):\n",
        "            y_vals_new.append(y_vals_new[i]+h_new*eq.subs([(x,x_vals_news[i]),(y,y_vals_new[i])]))\n",
        "        # print(f\"{len(x_vals_news)}  {len(y_vals_new)}\\n\\n\")\n",
        "        vals=[]\n",
        "\n",
        "        for i in range(0,len(x_vals_news)+1,2):\n",
        "            vals.append(y_vals_new[i])\n",
        "\n",
        "        if iter==0:\n",
        "            for i in range(len(vals)):\n",
        "                if(abs(vals[i]-y_vals[i])>acc):\n",
        "                    #print(abs(vals[i]-y_vals[i]))\n",
        "                    flag=1\n",
        "                    break\n",
        "                              \n",
        "        else:\n",
        "            for i in range(len(vals)):\n",
        "                if(abs(vals[i]-y_vals_prev[i])>acc):\n",
        "                    flag=1\n",
        "                    # print(abs(vals[i]-y_vals[i]))\n",
        "                    # print(iter)\n",
        "                    break\n",
        "\n",
        "        if flag==1:\n",
        "            y_vals_prev = y_vals_new\n",
        "            h_prev = h_new\n",
        "            x_vals_prev = x_vals_news\n",
        "\n",
        "        if iter==0 and flag==0:\n",
        "            return x_vals,y_vals,h    \n",
        "        iter+=1    \n",
        "\n",
        "    return x_vals_prev,y_vals_prev,h_new*2"
      ],
      "metadata": {
        "id": "E2jgov9-BjCv"
      },
      "execution_count": 92,
      "outputs": []
    },
    {
      "cell_type": "code",
      "source": [
        "x_vals,y_vals,h=Eyler(eq,0)"
      ],
      "metadata": {
        "id": "kMJ0Zs5K2hyE"
      },
      "execution_count": null,
      "outputs": []
    },
    {
      "cell_type": "code",
      "source": [
        "h,1/h"
      ],
      "metadata": {
        "colab": {
          "base_uri": "https://localhost:8080/"
        },
        "id": "rsstxXns-KV7",
        "outputId": "434818f5-eec8-4b2b-978c-2ab416195bb1"
      },
      "execution_count": null,
      "outputs": [
        {
          "output_type": "execute_result",
          "data": {
            "text/plain": [
              "(0.00625, 160.0)"
            ]
          },
          "metadata": {},
          "execution_count": 260
        }
      ]
    },
    {
      "cell_type": "code",
      "source": [
        "for x_val,y_val in zip(x_vals,y_vals):\n",
        "    print(f\"{round(x_val,4)} {round(y_val,4)}\")"
      ],
      "metadata": {
        "id": "puDk_t9eJio2"
      },
      "execution_count": null,
      "outputs": []
    },
    {
      "cell_type": "code",
      "source": [
        "plt.Figure(figsize=(10,10))\n",
        "plt.plot(x_vals,y_vals)\n",
        "plt.show()"
      ],
      "metadata": {
        "colab": {
          "base_uri": "https://localhost:8080/",
          "height": 265
        },
        "id": "NmS0u99fFC3Y",
        "outputId": "a0614c64-b0e4-411e-9d3e-966eaa8ae2ea"
      },
      "execution_count": null,
      "outputs": [
        {
          "output_type": "display_data",
          "data": {
            "text/plain": [
              "<Figure size 432x288 with 1 Axes>"
            ],
            "image/png": "[encoded data removed]"
          },
          "metadata": {
            "needs_background": "light"
          }
        }
      ]
    },
    {
      "cell_type": "code",
      "source": [
        ""
      ],
      "metadata": {
        "id": "zccNGE7LFC5t"
      },
      "execution_count": null,
      "outputs": []
    },
    {
      "cell_type": "code",
      "source": [
        "def Eyler_modified(eq, y_0):\n",
        "    acc=0.001\n",
        "    # h = (1 - 0) / 10\n",
        "    h=0.1\n",
        "    x_vals = np.arange(0, 1+0.000001, h)\n",
        "    y_vals=[y_0,]\n",
        "    for i in range(len(x_vals)-1):\n",
        "        y_vals.append(y_vals[i]+h*eq.subs([(x,x_vals[i]+h/2),(y,y_vals[i]+(h/2)*eq.subs([(x,x_vals[i]),(y,y_vals[i])]))]))\n",
        "    \n",
        "    h_new=h\n",
        "    k=2\n",
        "    flag=1\n",
        "    iter=0\n",
        "    num=0\n",
        "    while(flag==1):\n",
        "        flag=0\n",
        "        y_vals_new=[y_0,]\n",
        "        h_new=h_new/2\n",
        "        x_vals_news = np.arange(0, 1+0.000001, h_new)\n",
        "        for i in range(len(x_vals_news)-1):\n",
        "            y_vals_new.append(y_vals_new[i]+h_new*eq.subs([(x,x_vals_news[i]+h/2),(y,y_vals_new[i]+(h/2)*eq.subs([(x,x_vals_news[i]),(y,y_vals_new[i])]))]))\n",
        "        # print(f\"{len(x_vals_news)}  {len(y_vals_new)}\\n\\n\")\n",
        "        vals=[]\n",
        "\n",
        "        for i in range(0,len(x_vals_news)+1,2):\n",
        "            vals.append(y_vals_new[i])\n",
        "\n",
        "        if iter==0:\n",
        "            for i in range(len(vals)):\n",
        "                if(abs(vals[i]-y_vals[i])>acc):\n",
        "                    #print(abs(vals[i]-y_vals[i]))\n",
        "                    flag=1\n",
        "                    break\n",
        "                              \n",
        "        else:\n",
        "            for i in range(len(vals)):\n",
        "                if(abs(vals[i]-y_vals_prev[i])>acc):\n",
        "                    flag=1\n",
        "                    # print(abs(vals[i]-y_vals[i]))\n",
        "                    # print(iter)\n",
        "                    break\n",
        "\n",
        "        if flag==1:\n",
        "            y_vals_prev = y_vals_new\n",
        "            h_prev = h_new\n",
        "            x_vals_prev = x_vals_news\n",
        "\n",
        "        if iter==0 and flag==0:\n",
        "            return x_vals,y_vals,h    \n",
        "        iter+=1    \n",
        "\n",
        "    return x_vals_prev,y_vals_prev,h_new*2"
      ],
      "metadata": {
        "id": "Y_jMHJOBFC93"
      },
      "execution_count": 120,
      "outputs": []
    },
    {
      "cell_type": "code",
      "source": [
        "x_vals,y_vals,h=Eyler_modified(eq,0)"
      ],
      "metadata": {
        "id": "vGujBqCjLvFA"
      },
      "execution_count": null,
      "outputs": []
    },
    {
      "cell_type": "code",
      "source": [
        "h,1/h"
      ],
      "metadata": {
        "colab": {
          "base_uri": "https://localhost:8080/"
        },
        "outputId": "30db862d-a693-41a8-baf9-31f43c5feee6",
        "id": "0gNotyM4LvFC"
      },
      "execution_count": null,
      "outputs": [
        {
          "output_type": "execute_result",
          "data": {
            "text/plain": [
              "(0.00625, 160.0)"
            ]
          },
          "metadata": {},
          "execution_count": 242
        }
      ]
    },
    {
      "cell_type": "code",
      "source": [
        "for x_val,y_val in zip(x_vals,y_vals):\n",
        "    print(f\"{round(x_val,4)} {round(y_val,4)}\")"
      ],
      "metadata": {
        "id": "coyS_N7GLvFC"
      },
      "execution_count": null,
      "outputs": []
    },
    {
      "cell_type": "code",
      "source": [
        "plt.Figure(figsize=(10,10))\n",
        "plt.plot(x_vals,y_vals)\n",
        "plt.show()"
      ],
      "metadata": {
        "colab": {
          "base_uri": "https://localhost:8080/",
          "height": 265
        },
        "outputId": "4898ba93-56fe-421a-faf5-168a90d6e7ba",
        "id": "92ZTHd3vLvFC"
      },
      "execution_count": null,
      "outputs": [
        {
          "output_type": "display_data",
          "data": {
            "text/plain": [
              "<Figure size 432x288 with 1 Axes>"
            ],
            "image/png": "[encoded data removed]"
          },
          "metadata": {
            "needs_background": "light"
          }
        }
      ]
    },
    {
      "cell_type": "code",
      "source": [
        ""
      ],
      "metadata": {
        "id": "dj8W4amVFDE_"
      },
      "execution_count": null,
      "outputs": []
    },
    {
      "cell_type": "code",
      "source": [
        "def runge_kut(eq, y_0):\n",
        "    acc=0.001\n",
        "    h=0.1\n",
        "    x_vals = np.arange(0, 1+0.000001, h)\n",
        "    y_vals=[y_0,]\n",
        "    for i in range(len(x_vals)-1):\n",
        "        k1=h*eq.subs([(x,x_vals[i]),(y,y_vals[i])])\n",
        "        k2=h*eq.subs([(x,x_vals[i]+h/2),(y,y_vals[i]+k1/2)])\n",
        "        k3=h*eq.subs([(x,x_vals[i]+h/2),(y,y_vals[i]+k2/2)])\n",
        "        k4=h*eq.subs([(x,x_vals[i]+h),(y,y_vals[i]+k3)])\n",
        "        y_vals.append(y_vals[i]+(1/6)*(k1+2*k2+2*k3+k4))\n",
        "        #print(f\"{k1} {k2} {k3} {k4} {y_vals[i]+(1/6)*(k1+2*k2+2*k3+k4)} \\n\\n\")\n",
        "    #print(y_vals)\n",
        "    # print(f\"{len(x_vals)}  {len(y_vals)}\\n\\n\")\n",
        "\n",
        "    h_new=h\n",
        "    k=2\n",
        "    flag=1\n",
        "    iter=0\n",
        "    num=0\n",
        "    while(flag==1):\n",
        "        flag=0\n",
        "        y_vals_new=[y_0,]\n",
        "        h_new=h_new/2\n",
        "        x_vals_news = np.arange(0, 1+0.000001, h_new)\n",
        "        for i in range(len(x_vals_news)-1):\n",
        "            k1=h_new*eq.subs([(x,x_vals_news[i]),(y,y_vals_new[i])])\n",
        "            k2=h_new*eq.subs([(x,x_vals_news[i]+h_new/2),(y,y_vals_new[i]+k1/2)])\n",
        "            k3=h_new*eq.subs([(x,x_vals_news[i]+h_new/2),(y,y_vals_new[i]+k2/2)])\n",
        "            k4=h_new*eq.subs([(x,x_vals_news[i]+h),(y,y_vals_new[i]+k3)])\n",
        "            y_vals_new.append(y_vals_new[i]+(1/6)*(k1+2*k2+2*k3+k4))\n",
        "\n",
        "            # y_vals_new.append(y_vals_new[i]+h_new*eq.subs([(x,x_vals_news[i]),(y,y_vals_new[i])]))\n",
        "            # print(f\"{len(x_vals_news)}  {len(y_vals_new)}\\n\\n\")\n",
        "        vals=[]\n",
        "\n",
        "        for i in range(0,len(x_vals_news)+1,2):\n",
        "            vals.append(y_vals_new[i])\n",
        "\n",
        "        if iter==0:\n",
        "            for i in range(len(vals)):\n",
        "                if(abs(vals[i]-y_vals[i])>acc):\n",
        "                    #print(abs(vals[i]-y_vals[i]))\n",
        "                    flag=1\n",
        "                    break\n",
        "                              \n",
        "        else:\n",
        "            for i in range(len(vals)):\n",
        "                if(abs(vals[i]-y_vals_prev[i])>acc):\n",
        "                    flag=1\n",
        "                    # print(abs(vals[i]-y_vals[i]))\n",
        "                    # print(iter)\n",
        "                    break\n",
        "\n",
        "        if flag==1:\n",
        "            y_vals_prev = y_vals_new\n",
        "            h_prev = h_new\n",
        "            x_vals_prev = x_vals_news\n",
        "\n",
        "        if iter==0 and flag==0:\n",
        "            return x_vals,y_vals,h    \n",
        "        iter+=1    \n",
        "\n",
        "    return x_vals_prev,y_vals_prev,h_new*2"
      ],
      "metadata": {
        "id": "cdNCrgQeFDHi"
      },
      "execution_count": 94,
      "outputs": []
    },
    {
      "cell_type": "code",
      "source": [
        "x_vals,y_vals,h=runge_kut(eq,0)"
      ],
      "metadata": {
        "id": "eoQac49ofvA2"
      },
      "execution_count": null,
      "outputs": []
    },
    {
      "cell_type": "code",
      "source": [
        "h,1/h"
      ],
      "metadata": {
        "colab": {
          "base_uri": "https://localhost:8080/"
        },
        "outputId": "bb0a7175-d9fd-482c-8ea9-088c20cad2f6",
        "id": "Es-6OPXtfvA4"
      },
      "execution_count": null,
      "outputs": [
        {
          "output_type": "execute_result",
          "data": {
            "text/plain": [
              "(0.025, 40.0)"
            ]
          },
          "metadata": {},
          "execution_count": 282
        }
      ]
    },
    {
      "cell_type": "code",
      "source": [
        "for x_val,y_val in zip(x_vals,y_vals):\n",
        "    print(f\"{round(x_val,4)} {round(y_val,4)}\")"
      ],
      "metadata": {
        "id": "Vysw9sg-fvA4"
      },
      "execution_count": null,
      "outputs": []
    },
    {
      "cell_type": "code",
      "source": [
        "plt.Figure(figsize=(10,10))\n",
        "plt.plot(x_vals,y_vals)\n",
        "plt.show()"
      ],
      "metadata": {
        "colab": {
          "base_uri": "https://localhost:8080/",
          "height": 265
        },
        "outputId": "4b3192b7-c1f0-4c57-dbdf-e9ecf2ff9421",
        "id": "UyEuBEwafvA4"
      },
      "execution_count": null,
      "outputs": [
        {
          "output_type": "display_data",
          "data": {
            "text/plain": [
              "<Figure size 432x288 with 1 Axes>"
            ],
            "image/png": "[encoded data removed]"
          },
          "metadata": {
            "needs_background": "light"
          }
        }
      ]
    },
    {
      "cell_type": "markdown",
      "source": [
        "# Тестовый пример"
      ],
      "metadata": {
        "id": "j80k0I1DlQMx"
      }
    },
    {
      "cell_type": "code",
      "source": [
        "eq=-y"
      ],
      "metadata": {
        "id": "CDhTD-ZflZVs"
      },
      "execution_count": 59,
      "outputs": []
    },
    {
      "cell_type": "code",
      "source": [
        "eq"
      ],
      "metadata": {
        "colab": {
          "base_uri": "https://localhost:8080/",
          "height": 38
        },
        "id": "vghTOMcQlZX-",
        "outputId": "65a5ad80-d1e0-49c1-c186-c60bbf8666fa"
      },
      "execution_count": 10,
      "outputs": [
        {
          "output_type": "execute_result",
          "data": {
            "text/plain": [
              "-y"
            ],
            "text/latex": "$\\displaystyle - y$"
          },
          "metadata": {},
          "execution_count": 10
        }
      ]
    },
    {
      "cell_type": "code",
      "source": [
        "x_vals_eyler_simple,y_vals_eyler_simple,h=Eyler(eq,1)"
      ],
      "metadata": {
        "id": "B8aph5x2lZaL"
      },
      "execution_count": 60,
      "outputs": []
    },
    {
      "cell_type": "code",
      "source": [
        "h,1/h"
      ],
      "metadata": {
        "colab": {
          "base_uri": "https://localhost:8080/"
        },
        "id": "NtTPcK-tl1TJ",
        "outputId": "2e55e50f-d399-4f81-c08c-7c8033159230"
      },
      "execution_count": 61,
      "outputs": [
        {
          "output_type": "execute_result",
          "data": {
            "text/plain": [
              "(0.1, 10.0)"
            ]
          },
          "metadata": {},
          "execution_count": 61
        }
      ]
    },
    {
      "cell_type": "code",
      "source": [
        "for x_val,y_val in zip(x_vals_eyler_simple,y_vals_eyler_simple):\n",
        "    print(f\"{round(x_val,4)} {round(y_val,4)}\")"
      ],
      "metadata": {
        "colab": {
          "base_uri": "https://localhost:8080/"
        },
        "id": "O3brgDJ4lx-W",
        "outputId": "810d768f-5f25-4484-85d2-6602cc54c434"
      },
      "execution_count": 62,
      "outputs": [
        {
          "output_type": "stream",
          "name": "stdout",
          "text": [
            "0.0 1\n",
            "0.1 0.9000\n",
            "0.2 0.8100\n",
            "0.3 0.7290\n",
            "0.4 0.6561\n",
            "0.5 0.5905\n",
            "0.6 0.5314\n",
            "0.7 0.4783\n",
            "0.8 0.4305\n",
            "0.9 0.3874\n",
            "1.0 0.3487\n"
          ]
        }
      ]
    },
    {
      "cell_type": "code",
      "source": [
        ""
      ],
      "metadata": {
        "id": "TXXfd_9xnNhF"
      },
      "execution_count": null,
      "outputs": []
    },
    {
      "cell_type": "code",
      "source": [
        "h=0.1\n",
        "x_vals_sol = np.arange(0, 1+0.000001, h)\n",
        "y_vals_sol=[np.exp(-i) for i in x_vals_sol]"
      ],
      "metadata": {
        "id": "cRHL6LV9mMY7"
      },
      "execution_count": 63,
      "outputs": []
    },
    {
      "cell_type": "code",
      "source": [
        "for x_val,y_val in zip(x_vals_sol,y_vals_sol):\n",
        "    print(f\"{round(x_val,4)} {round(y_val,4)}\")"
      ],
      "metadata": {
        "colab": {
          "base_uri": "https://localhost:8080/"
        },
        "id": "Zg6Oq2wvmy7g",
        "outputId": "e0971682-8545-4764-fcdf-faac797abed7"
      },
      "execution_count": 64,
      "outputs": [
        {
          "output_type": "stream",
          "name": "stdout",
          "text": [
            "0.0 1.0\n",
            "0.1 0.9048\n",
            "0.2 0.8187\n",
            "0.3 0.7408\n",
            "0.4 0.6703\n",
            "0.5 0.6065\n",
            "0.6 0.5488\n",
            "0.7 0.4966\n",
            "0.8 0.4493\n",
            "0.9 0.4066\n",
            "1.0 0.3679\n"
          ]
        }
      ]
    },
    {
      "cell_type": "code",
      "source": [
        ""
      ],
      "metadata": {
        "id": "Ky8ca0xwnMnW"
      },
      "execution_count": null,
      "outputs": []
    },
    {
      "cell_type": "code",
      "source": [
        "x_vals_eyler_modified,y_vals_eyler_modified,h=Eyler_modified(eq,1)"
      ],
      "metadata": {
        "id": "gibsr_KwnN4v"
      },
      "execution_count": 65,
      "outputs": []
    },
    {
      "cell_type": "code",
      "source": [
        "h,1/h"
      ],
      "metadata": {
        "colab": {
          "base_uri": "https://localhost:8080/"
        },
        "outputId": "d2aa3b95-e959-4bcd-bf14-39b6dfd7e165",
        "id": "zy393UiKnN4w"
      },
      "execution_count": 66,
      "outputs": [
        {
          "output_type": "execute_result",
          "data": {
            "text/plain": [
              "(0.1, 10.0)"
            ]
          },
          "metadata": {},
          "execution_count": 66
        }
      ]
    },
    {
      "cell_type": "code",
      "source": [
        "for x_val,y_val in zip(x_vals_eyler_modified,y_vals_eyler_modified):\n",
        "    print(f\"{round(x_val,4)} {round(y_val,4)}\")"
      ],
      "metadata": {
        "colab": {
          "base_uri": "https://localhost:8080/"
        },
        "id": "6JPV87jrnN4w",
        "outputId": "738c78af-135f-4638-de4c-872619af7cb8"
      },
      "execution_count": 67,
      "outputs": [
        {
          "output_type": "stream",
          "name": "stdout",
          "text": [
            "0.0 1\n",
            "0.1 0.9050\n",
            "0.2 0.8190\n",
            "0.3 0.7412\n",
            "0.4 0.6708\n",
            "0.5 0.6071\n",
            "0.6 0.5494\n",
            "0.7 0.4972\n",
            "0.8 0.4500\n",
            "0.9 0.4072\n",
            "1.0 0.3685\n"
          ]
        }
      ]
    },
    {
      "cell_type": "code",
      "source": [
        ""
      ],
      "metadata": {
        "id": "fLPkJ13vovhO"
      },
      "execution_count": null,
      "outputs": []
    },
    {
      "cell_type": "code",
      "source": [
        ""
      ],
      "metadata": {
        "id": "JZNFp7Gsov5A"
      },
      "execution_count": null,
      "outputs": []
    },
    {
      "cell_type": "code",
      "source": [
        "x_vals_runge_kut,y_vals_runge_kut,h_runge_kut=runge_kut(eq,1)"
      ],
      "metadata": {
        "id": "JNnIHH_eowOF"
      },
      "execution_count": 83,
      "outputs": []
    },
    {
      "cell_type": "code",
      "source": [
        "h_runge_kut,1/h_runge_kut"
      ],
      "metadata": {
        "colab": {
          "base_uri": "https://localhost:8080/"
        },
        "outputId": "3e70d50e-3829-4211-f43b-ea7a2d869374",
        "id": "JMulAkJLowOG"
      },
      "execution_count": 84,
      "outputs": [
        {
          "output_type": "execute_result",
          "data": {
            "text/plain": [
              "(0.1, 10.0)"
            ]
          },
          "metadata": {},
          "execution_count": 84
        }
      ]
    },
    {
      "cell_type": "code",
      "source": [
        "for x_val,y_val in zip(x_vals_runge_kut,y_vals_runge_kut):\n",
        "    print(f\"{round(x_val,4)} {round(y_val,4)}\")"
      ],
      "metadata": {
        "colab": {
          "base_uri": "https://localhost:8080/"
        },
        "outputId": "2db9c764-3f11-4291-ca64-a94bb3d1ce08",
        "id": "ALpOzSgnowOG"
      },
      "execution_count": 85,
      "outputs": [
        {
          "output_type": "stream",
          "name": "stdout",
          "text": [
            "0.0 1\n",
            "0.1 0.9048\n",
            "0.2 0.8187\n",
            "0.3 0.7408\n",
            "0.4 0.6703\n",
            "0.5 0.6065\n",
            "0.6 0.5488\n",
            "0.7 0.4966\n",
            "0.8 0.4493\n",
            "0.9 0.4066\n",
            "1.0 0.3679\n"
          ]
        }
      ]
    },
    {
      "cell_type": "code",
      "source": [
        "y_vals_eyler_modified=y_vals_eyler_modified[:-1]"
      ],
      "metadata": {
        "id": "3rCWMUfrtoIt"
      },
      "execution_count": 80,
      "outputs": []
    },
    {
      "cell_type": "code",
      "source": [
        "y_vals_eyler_modified"
      ],
      "metadata": {
        "colab": {
          "base_uri": "https://localhost:8080/"
        },
        "id": "AcZnAsK0t61U",
        "outputId": "9e99ef00-0998-403a-ecb9-08bec9cf065a"
      },
      "execution_count": 81,
      "outputs": [
        {
          "output_type": "execute_result",
          "data": {
            "text/plain": [
              "[1,\n",
              " 0.905000000000000,\n",
              " 0.819025000000000,\n",
              " 0.741217625000000,\n",
              " 0.670801950625000,\n",
              " 0.607075765315625,\n",
              " 0.549403567610641,\n",
              " 0.497210228687630,\n",
              " 0.449975256962305,\n",
              " 0.407227607550886,\n",
              " 0.368540984833552]"
            ]
          },
          "metadata": {},
          "execution_count": 81
        }
      ]
    },
    {
      "cell_type": "code",
      "source": [
        "plt.Figure(figsize=(20,20))\n",
        "plt.plot(x_vals_eyler_modified,y_vals_eyler_modified,color=\"g\")\n",
        "plt.plot(x_vals_eyler_simple,y_vals_eyler_simple,color=\"y\")\n",
        "plt.plot(x_vals_runge_kut,y_vals_runge_kut,'go--',color=\"r\")\n",
        "plt.plot(x_vals_sol,y_vals_sol,\"rs\",color=\"b\")\n",
        "plt.show()"
      ],
      "metadata": {
        "colab": {
          "base_uri": "https://localhost:8080/",
          "height": 265
        },
        "id": "Rzh4kA4rov75",
        "outputId": "f32459b9-0f67-4729-c49f-fa596c1125eb"
      },
      "execution_count": 86,
      "outputs": [
        {
          "output_type": "display_data",
          "data": {
            "text/plain": [
              "<Figure size 432x288 with 1 Axes>"
            ],
            "image/png": "[encoded data removed]"
          },
          "metadata": {
            "needs_background": "light"
          }
        }
      ]
    },
    {
      "cell_type": "markdown",
      "source": [
        "# Вариант 8"
      ],
      "metadata": {
        "id": "GMO_tkCyzRJv"
      }
    },
    {
      "cell_type": "code",
      "source": [
        "eq"
      ],
      "metadata": {
        "colab": {
          "base_uri": "https://localhost:8080/",
          "height": 57
        },
        "id": "ozWf6EeZzT4c",
        "outputId": "8a82acf3-6279-470f-dc2f-24ac885a48fe"
      },
      "execution_count": 117,
      "outputs": [
        {
          "output_type": "execute_result",
          "data": {
            "text/plain": [
              "(0.9 - 0.9*y**2)/(2.5*x**2 + y**2 + 1)"
            ],
            "text/latex": "$\\displaystyle \\frac{0.9 - 0.9 y^{2}}{2.5 x^{2} + y^{2} + 1}$"
          },
          "metadata": {},
          "execution_count": 117
        }
      ]
    },
    {
      "cell_type": "code",
      "source": [
        ""
      ],
      "metadata": {
        "id": "czDI3aqEzVoj"
      },
      "execution_count": null,
      "outputs": []
    },
    {
      "cell_type": "code",
      "source": [
        "x_vals_eyler_simple,y_vals_eyler_simple,h=Eyler(eq,0)"
      ],
      "metadata": {
        "id": "i1ia5faSze-e"
      },
      "execution_count": 95,
      "outputs": []
    },
    {
      "cell_type": "code",
      "source": [
        "h,1/h"
      ],
      "metadata": {
        "colab": {
          "base_uri": "https://localhost:8080/"
        },
        "outputId": "012297ed-53c3-407c-ef6b-0808867ff3e6",
        "id": "u7K3Z6Kuze-f"
      },
      "execution_count": 96,
      "outputs": [
        {
          "output_type": "execute_result",
          "data": {
            "text/plain": [
              "(0.00625, 160.0)"
            ]
          },
          "metadata": {},
          "execution_count": 96
        }
      ]
    },
    {
      "cell_type": "code",
      "source": [
        "for x_val,y_val in zip(x_vals_eyler_simple,y_vals_eyler_simple):\n",
        "    print(f\"{round(x_val,4)} {round(y_val,4)}\")"
      ],
      "metadata": {
        "id": "CM1NqEfCze-f"
      },
      "execution_count": null,
      "outputs": []
    },
    {
      "cell_type": "code",
      "source": [
        "for i in range(len(x_vals_eyler_simple)):\n",
        "    if round(x_vals_eyler_simple[i],4) in [0,0.1,0.2,0.3,0.4,0.5,0.6,0.7,0.8,0.9,1]:\n",
        "        print(f\"{round(x_vals_eyler_simple[i],4)} {round(y_vals_eyler_simple[i],4)}\")"
      ],
      "metadata": {
        "colab": {
          "base_uri": "https://localhost:8080/"
        },
        "id": "jOo3CTkszxM-",
        "outputId": "76f53ed0-67e7-45b3-a7af-6d901063b436"
      },
      "execution_count": 115,
      "outputs": [
        {
          "output_type": "stream",
          "name": "stdout",
          "text": [
            "0.0 0\n",
            "0.1 0.0889\n",
            "0.2 0.1714\n",
            "0.3 0.2435\n",
            "0.4 0.3041\n",
            "0.5 0.3541\n",
            "0.6 0.3951\n",
            "0.7 0.4289\n",
            "0.8 0.4569\n",
            "0.9 0.4803\n",
            "1.0 0.5000\n"
          ]
        }
      ]
    },
    {
      "cell_type": "code",
      "source": [
        ""
      ],
      "metadata": {
        "id": "hA_Eka5DzxPq"
      },
      "execution_count": null,
      "outputs": []
    },
    {
      "cell_type": "code",
      "source": [
        "x_vals_eyler_modified,y_vals_eyler_modified,h=Eyler_modified(eq,0)"
      ],
      "metadata": {
        "id": "cWdrRrrXze-f"
      },
      "execution_count": 121,
      "outputs": []
    },
    {
      "cell_type": "code",
      "source": [
        "h,1/h"
      ],
      "metadata": {
        "colab": {
          "base_uri": "https://localhost:8080/"
        },
        "outputId": "ac39d3f0-ec05-4762-c5e8-a0493bc1fd86",
        "id": "Mkj6T-Suze-g"
      },
      "execution_count": 122,
      "outputs": [
        {
          "output_type": "execute_result",
          "data": {
            "text/plain": [
              "(0.00625, 160.0)"
            ]
          },
          "metadata": {},
          "execution_count": 122
        }
      ]
    },
    {
      "cell_type": "code",
      "source": [
        "for x_val,y_val in zip(x_vals_eyler_modified,y_vals_eyler_modified):\n",
        "    print(f\"{round(x_val,4)} {round(y_val,4)}\")"
      ],
      "metadata": {
        "id": "lUI8-HdDze-g"
      },
      "execution_count": null,
      "outputs": []
    },
    {
      "cell_type": "code",
      "source": [
        "for i in range(len(x_vals_eyler_modified)):\n",
        "    if round(x_vals_eyler_modified[i],4) in [0.1,0.2,0.3,0.4,0.5,0.6,0.7,0.8,0.9,1]:\n",
        "        print(f\"{round(x_vals_eyler_modified[i],4)} {round(y_vals_eyler_modified[i],4)}\")"
      ],
      "metadata": {
        "colab": {
          "base_uri": "https://localhost:8080/"
        },
        "id": "-2QbdHX10CW-",
        "outputId": "efaf97ac-7834-4caf-af59-bd942d075a75"
      },
      "execution_count": 124,
      "outputs": [
        {
          "output_type": "stream",
          "name": "stdout",
          "text": [
            "0.1 0.0864\n",
            "0.2 0.1642\n",
            "0.3 0.2310\n",
            "0.4 0.2868\n",
            "0.5 0.3331\n",
            "0.6 0.3713\n",
            "0.7 0.4031\n",
            "0.8 0.4295\n",
            "0.9 0.4518\n",
            "1.0 0.4707\n"
          ]
        }
      ]
    },
    {
      "cell_type": "code",
      "source": [
        "x_vals_runge_kut,y_vals_runge_kut,h_runge_kut=runge_kut(eq,0)"
      ],
      "metadata": {
        "id": "ujz3GUtTze-g"
      },
      "execution_count": 104,
      "outputs": []
    },
    {
      "cell_type": "code",
      "source": [
        "h_runge_kut,1/h_runge_kut"
      ],
      "metadata": {
        "colab": {
          "base_uri": "https://localhost:8080/"
        },
        "outputId": "63fe8aa6-3ff2-4266-b08e-1afe96e2c093",
        "id": "4lZ21Xu4ze-g"
      },
      "execution_count": 105,
      "outputs": [
        {
          "output_type": "execute_result",
          "data": {
            "text/plain": [
              "(0.025, 40.0)"
            ]
          },
          "metadata": {},
          "execution_count": 105
        }
      ]
    },
    {
      "cell_type": "code",
      "source": [
        "for x_val,y_val in zip(x_vals_runge_kut,y_vals_runge_kut):\n",
        "    print(f\"{round(x_val,4)} {round(y_val,4)}\")"
      ],
      "metadata": {
        "id": "DjVNcnjNze-g"
      },
      "execution_count": null,
      "outputs": []
    },
    {
      "cell_type": "code",
      "source": [
        "for i in range(len(x_vals_runge_kut)):\n",
        "    if round(x_vals_runge_kut[i],4) in [0.1,0.2,0.3,0.4,0.5,0.6,0.7,0.8,0.9,1]:\n",
        "        print(f\"{round(x_vals_runge_kut[i],4)} {round(y_vals_runge_kut[i],4)}\")"
      ],
      "metadata": {
        "colab": {
          "base_uri": "https://localhost:8080/"
        },
        "id": "0WcvSxQWZ4Rh",
        "outputId": "641f05e6-da80-461d-b66e-7622f6ef0226"
      },
      "execution_count": 114,
      "outputs": [
        {
          "output_type": "stream",
          "name": "stdout",
          "text": [
            "0.1 0.0883\n",
            "0.2 0.1697\n",
            "0.3 0.2405\n",
            "0.4 0.3000\n",
            "0.5 0.3491\n",
            "0.6 0.3895\n",
            "0.7 0.4228\n",
            "0.8 0.4504\n",
            "0.9 0.4735\n",
            "1.0 0.4930\n"
          ]
        }
      ]
    },
    {
      "cell_type": "code",
      "source": [
        "plt.Figure(figsize=(20,20))\n",
        "plt.plot(x_vals_eyler_modified,y_vals_eyler_modified,color=\"g\")\n",
        "plt.plot(x_vals_eyler_simple,y_vals_eyler_simple,color=\"y\")\n",
        "plt.plot(x_vals_runge_kut,y_vals_runge_kut,'go--',color=\"r\")\n",
        "plt.show()"
      ],
      "metadata": {
        "colab": {
          "base_uri": "https://localhost:8080/",
          "height": 265
        },
        "outputId": "28182768-a02a-4758-88b9-18b221292e72",
        "id": "wu79dutXze-g"
      },
      "execution_count": 125,
      "outputs": [
        {
          "output_type": "display_data",
          "data": {
            "text/plain": [
              "<Figure size 432x288 with 1 Axes>"
            ],
            "image/png": "[encoded data removed]"
          },
          "metadata": {
            "needs_background": "light"
          }
        }
      ]
    },
    {
      "cell_type": "code",
      "source": [
        "# def Eyler(eq, y_0):\n",
        "#     acc=0.001\n",
        "#     h = 0.1\n",
        "#     x_vals = np.arange(0, 1+0.000001, h)\n",
        "#     y_vals=[y_0,]\n",
        "#     for i in range(len(x_vals)-1):\n",
        "#         y_vals.append(y_vals[i]+h*eq.subs([(x,x_vals[i]),(y,y_vals[i])]))\n",
        "#     print(f\"{len(x_vals)}  {len(y_vals)}\\n\\n\")\n",
        "#     h_new=h\n",
        "#     k=2\n",
        "#     flag=1\n",
        "#     iter=0\n",
        "#     while(flag==1):\n",
        "#         flag=0\n",
        "#         y_vals_new=[y_0,]\n",
        "#         h_new=h_new/2\n",
        "#         x_vals_news = np.arange(0, 1+0.000001, h_new)\n",
        "#         for i in range(len(x_vals_news)-1):\n",
        "#             y_vals_new.append(y_vals_new[i]+h_new*eq.subs([(x,x_vals_news[i]),(y,y_vals_new[i])]))\n",
        "#         print(f\"{len(x_vals_news)}  {len(y_vals_new)}\\n\\n\")\n",
        "#         vals=[]\n",
        "#         for i in range(0,len(x_vals_news)+1,k):\n",
        "#             vals.append(y_vals_new[i])\n",
        "        \n",
        "#         k*=2\n",
        "#         # print(vals)\n",
        "#         # print(\"/n/n\")\n",
        "#         for i in range(len(vals)):\n",
        "#             if abs(vals[i]-y_vals[i])-0.001>acc:\n",
        "#                 print(abs(vals[i]-y_vals[i])-0.001)\n",
        "#                 print(iter)\n",
        "#                 flag=1\n",
        "#                 break\n",
        "                \n",
        "\n",
        "#         if iter==0 and flag==0:\n",
        "#             return x_vals,y_vals    \n",
        "#         iter+=1    \n",
        "        \n",
        "#     return x_vals_news,y_vals_new"
      ],
      "metadata": {
        "id": "G2WbV_5u4mHL"
      },
      "execution_count": null,
      "outputs": []
    },
    {
      "cell_type": "code",
      "source": [
        "# x_vals,y_vals=Eyler(eq,0)"
      ],
      "metadata": {
        "id": "cAwN0uPx-cvQ"
      },
      "execution_count": null,
      "outputs": []
    },
    {
      "cell_type": "code",
      "source": [
        "# for x_val,y_val in zip(x_vals,y_vals):\n",
        "#     print(f\"{round(x_val,4)} {round(y_val,4)}\")"
      ],
      "metadata": {
        "id": "36Fm3MS4-cvS"
      },
      "execution_count": null,
      "outputs": []
    }
  ]
}