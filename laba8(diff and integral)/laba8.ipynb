{
  "nbformat": 4,
  "nbformat_minor": 0,
  "metadata": {
    "colab": {
      "name": "laba8.ipynb",
      "provenance": [],
      "collapsed_sections": []
    },
    "kernelspec": {
      "name": "python3",
      "display_name": "Python 3"
    },
    "language_info": {
      "name": "python"
    }
  },
  "cells": [
    {
      "cell_type": "code",
      "execution_count": null,
      "metadata": {
        "id": "i0tRTxWi8oXC"
      },
      "outputs": [],
      "source": [
        "import numpy as np\n",
        "import sympy as sp"
      ]
    },
    {
      "cell_type": "code",
      "source": [
        "x = sp.symbols('x')"
      ],
      "metadata": {
        "id": "nKFYz-_a856R"
      },
      "execution_count": null,
      "outputs": []
    },
    {
      "cell_type": "code",
      "source": [
        "f=sp.sin(x)/x\n",
        "f"
      ],
      "metadata": {
        "colab": {
          "base_uri": "https://localhost:8080/",
          "height": 53
        },
        "id": "byhmf2JU9b0Z",
        "outputId": "8941b1f5-5d52-43e2-8b4a-c9a0d5498b47"
      },
      "execution_count": null,
      "outputs": [
        {
          "output_type": "execute_result",
          "data": {
            "text/plain": [
              "sin(x)/x"
            ],
            "text/latex": "$\\displaystyle \\frac{\\sin{\\left(x \\right)}}{x}$"
          },
          "metadata": {},
          "execution_count": 3
        }
      ]
    },
    {
      "cell_type": "code",
      "source": [
        "x_vals=np.arange(1,2.0001,0.01)\n",
        "y_vals=[f.subs(x,x_val) for x_val in x_vals]"
      ],
      "metadata": {
        "id": "xkLusd5s9hhJ"
      },
      "execution_count": null,
      "outputs": []
    },
    {
      "cell_type": "code",
      "source": [
        "h=0.01\n",
        "x_point=1.5"
      ],
      "metadata": {
        "id": "Q23yUNoIBSr9"
      },
      "execution_count": null,
      "outputs": []
    },
    {
      "cell_type": "code",
      "source": [
        "def first_derivative(f,x_point,h):\n",
        "    return (f.subs(x,x_point+h)-f.subs(x,x_point))/h"
      ],
      "metadata": {
        "id": "60peaiXb_l4o"
      },
      "execution_count": null,
      "outputs": []
    },
    {
      "cell_type": "code",
      "source": [
        "def first_derivative_error(f,x_point,h):\n",
        "    f_diff_2=sp.diff(f,x,x)\n",
        "    y_interval=[abs(f_diff_2.subs(x,x_val)) for x_val in np.arange(1,2+h,0.01)]\n",
        "    m=max(y_interval)\n",
        "    print(m)\n",
        "    return abs((m*h)/2)"
      ],
      "metadata": {
        "id": "MUr1cEOPCT5X"
      },
      "execution_count": null,
      "outputs": []
    },
    {
      "cell_type": "code",
      "source": [
        "first_derivative(f,x_point,h)"
      ],
      "metadata": {
        "colab": {
          "base_uri": "https://localhost:8080/",
          "height": 37
        },
        "id": "3H7H9cFDBrbq",
        "outputId": "e8c3e628-58a6-4e12-bcdb-7aec944b9782"
      },
      "execution_count": null,
      "outputs": [
        {
          "output_type": "execute_result",
          "data": {
            "text/plain": [
              "-0.396853025421617"
            ],
            "text/latex": "$\\displaystyle -0.396853025421617$"
          },
          "metadata": {},
          "execution_count": 32
        }
      ]
    },
    {
      "cell_type": "code",
      "source": [
        "f_diff=sp.diff(f,x)\n",
        "f_diff.subs(x,x_point)"
      ],
      "metadata": {
        "colab": {
          "base_uri": "https://localhost:8080/",
          "height": 37
        },
        "id": "3N7HeiewBrne",
        "outputId": "ba3f2aad-b3ca-4a54-bc91-af9196b51ea6"
      },
      "execution_count": null,
      "outputs": [
        {
          "output_type": "execute_result",
          "data": {
            "text/plain": [
              "-0.396172970712222"
            ],
            "text/latex": "$\\displaystyle -0.396172970712222$"
          },
          "metadata": {},
          "execution_count": 33
        }
      ]
    },
    {
      "cell_type": "code",
      "source": [
        "first_derivative_error(f,x_point,h)"
      ],
      "metadata": {
        "colab": {
          "base_uri": "https://localhost:8080/",
          "height": 55
        },
        "id": "jE9FRMP2CKWY",
        "outputId": "a6ac18f9-99dd-4392-ffce-a1bf0364ea60"
      },
      "execution_count": null,
      "outputs": [
        {
          "output_type": "stream",
          "name": "stdout",
          "text": [
            "0.239133626928383\n"
          ]
        },
        {
          "output_type": "execute_result",
          "data": {
            "text/plain": [
              "0.00119566813464192"
            ],
            "text/latex": "$\\displaystyle 0.00119566813464192$"
          },
          "metadata": {},
          "execution_count": 34
        }
      ]
    },
    {
      "cell_type": "code",
      "source": [
        ""
      ],
      "metadata": {
        "id": "lHXiR1oBEj6B"
      },
      "execution_count": null,
      "outputs": []
    },
    {
      "cell_type": "code",
      "source": [
        "def second_derivative(f,x_point,h):\n",
        "    return (f.subs(x,x_point+h)-2*f.subs(x,x_point)+f.subs(x,x_point-h))/h**2"
      ],
      "metadata": {
        "id": "x27ScTm1Ej9m"
      },
      "execution_count": null,
      "outputs": []
    },
    {
      "cell_type": "code",
      "source": [
        "def second_derivative_error(f,x_point,h):\n",
        "    f_diff_4=sp.diff(f,x,x,x,x)\n",
        "    y_interval=[abs(f_diff_4.subs(x,x_val)) for x_val in np.arange(1,2+h,0.001)]\n",
        "    m=max(y_interval)\n",
        "    print(m)\n",
        "    return abs((m*h**2)/12)"
      ],
      "metadata": {
        "id": "7HsqfM6SFSkN"
      },
      "execution_count": null,
      "outputs": []
    },
    {
      "cell_type": "code",
      "source": [
        "second_derivative(f,x_point,h)"
      ],
      "metadata": {
        "colab": {
          "base_uri": "https://localhost:8080/",
          "height": 37
        },
        "id": "z60KMM-PFHP1",
        "outputId": "b8785aa7-0693-4a40-c0b4-c708ed07c04c"
      },
      "execution_count": null,
      "outputs": [
        {
          "output_type": "execute_result",
          "data": {
            "text/plain": [
              "-0.136765519010984"
            ],
            "text/latex": "$\\displaystyle -0.136765519010984$"
          },
          "metadata": {},
          "execution_count": 24
        }
      ]
    },
    {
      "cell_type": "code",
      "source": [
        "f_diff=sp.diff(f,x,x)\n",
        "f_diff.subs(x,x_point)"
      ],
      "metadata": {
        "colab": {
          "base_uri": "https://localhost:8080/",
          "height": 37
        },
        "id": "ZJis3zBsFQKZ",
        "outputId": "0fbc8f8f-6464-4485-e82b-bbfb643ca9f0"
      },
      "execution_count": null,
      "outputs": [
        {
          "output_type": "execute_result",
          "data": {
            "text/plain": [
              "-0.136766030119740"
            ],
            "text/latex": "$\\displaystyle -0.13676603011974$"
          },
          "metadata": {},
          "execution_count": 25
        }
      ]
    },
    {
      "cell_type": "code",
      "source": [
        "second_derivative_error(f,x_point,h)"
      ],
      "metadata": {
        "colab": {
          "base_uri": "https://localhost:8080/",
          "height": 55
        },
        "id": "s33gDQWtFf5V",
        "outputId": "5da5d9b7-4ad0-4f8a-d6ef-b0cbce9251d5"
      },
      "execution_count": null,
      "outputs": [
        {
          "output_type": "stream",
          "name": "stdout",
          "text": [
            "0.133076685139860\n"
          ]
        },
        {
          "output_type": "execute_result",
          "data": {
            "text/plain": [
              "1.10897237616550e-6"
            ],
            "text/latex": "$\\displaystyle 1.1089723761655 \\cdot 10^{-6}$"
          },
          "metadata": {},
          "execution_count": 26
        }
      ]
    },
    {
      "cell_type": "code",
      "source": [
        ""
      ],
      "metadata": {
        "id": "-ZmTBq8dGvC4"
      },
      "execution_count": null,
      "outputs": []
    },
    {
      "cell_type": "code",
      "source": [
        "def integral_trapezoid(f,a,b,h):\n",
        "    x_vals=np.arange(a,b+0.001,h)\n",
        "    return sum([((f.subs(x,x_val)+f.subs(x,x_val+h))/2)*h for x_val in x_vals])"
      ],
      "metadata": {
        "id": "NFgh4IFcFrbg"
      },
      "execution_count": null,
      "outputs": []
    },
    {
      "cell_type": "code",
      "source": [
        "def integral_trapezoid_error(f,a,b,h):\n",
        "    f_diff_2=sp.diff(f,x,x)\n",
        "    y_interval=[abs(f_diff_2.subs(x,x_val)) for x_val in np.arange(a,b+0.0001,h)]\n",
        "    m=max(y_interval)\n",
        "    return abs(m*(1/h)*h**2)/12"
      ],
      "metadata": {
        "id": "_5mxVeGqI7XX"
      },
      "execution_count": null,
      "outputs": []
    },
    {
      "cell_type": "code",
      "source": [
        "integral_trapezoid(f,1,2,0.001)"
      ],
      "metadata": {
        "colab": {
          "base_uri": "https://localhost:8080/",
          "height": 37
        },
        "id": "YDLq7gI5IlOa",
        "outputId": "87804669-d325-4fd1-c6fb-30864159dc56"
      },
      "execution_count": null,
      "outputs": [
        {
          "output_type": "execute_result",
          "data": {
            "text/plain": [
              "0.659784326259509"
            ],
            "text/latex": "$\\displaystyle 0.659784326259509$"
          },
          "metadata": {},
          "execution_count": 37
        }
      ]
    },
    {
      "cell_type": "code",
      "source": [
        "integral_trapezoid_error(f,1,2,0.001)"
      ],
      "metadata": {
        "colab": {
          "base_uri": "https://localhost:8080/",
          "height": 37
        },
        "id": "3BAVRfQrJpON",
        "outputId": "218fdffd-1d05-4182-c4f5-c7f3a275e6fc"
      },
      "execution_count": null,
      "outputs": [
        {
          "output_type": "execute_result",
          "data": {
            "text/plain": [
              "1.99278022440319e-5"
            ],
            "text/latex": "$\\displaystyle 1.99278022440319 \\cdot 10^{-5}$"
          },
          "metadata": {},
          "execution_count": 38
        }
      ]
    },
    {
      "cell_type": "code",
      "source": [
        ""
      ],
      "metadata": {
        "id": "y4yN3Kc2vQ5n"
      },
      "execution_count": null,
      "outputs": []
    },
    {
      "cell_type": "code",
      "source": [
        "def intergate_rectangle(f,a,b,h):\n",
        "    return sum([f.subs(x,x_val)*h for x_val in np.arange(a,b+0.001,h)])"
      ],
      "metadata": {
        "id": "tRdCu72nvTuV"
      },
      "execution_count": null,
      "outputs": []
    },
    {
      "cell_type": "code",
      "source": [
        "def integral_rectangle_error(f,a,b,h):\n",
        "    f_diff_2=sp.diff(f,x,x)\n",
        "    y_interval=[abs(f_diff_2.subs(x,x_val) )for x_val in np.arange(a,b+0.0001,h)]\n",
        "    m=max(y_interval)\n",
        "    return abs(m*(1/h)*h**3)/24"
      ],
      "metadata": {
        "id": "_0sqs9p9wNOr"
      },
      "execution_count": null,
      "outputs": []
    },
    {
      "cell_type": "code",
      "source": [
        "intergate_rectangle(f,1,2,0.001)"
      ],
      "metadata": {
        "colab": {
          "base_uri": "https://localhost:8080/",
          "height": 37
        },
        "id": "e8Zt2Og7vQ89",
        "outputId": "b1cd360c-d74c-4cce-a101-64e558d214cc"
      },
      "execution_count": null,
      "outputs": [
        {
          "output_type": "execute_result",
          "data": {
            "text/plain": [
              "0.659977955098888"
            ],
            "text/latex": "$\\displaystyle 0.659977955098888$"
          },
          "metadata": {},
          "execution_count": 41
        }
      ]
    },
    {
      "cell_type": "code",
      "source": [
        "integral_rectangle_error(f,1,2,0.001)"
      ],
      "metadata": {
        "colab": {
          "base_uri": "https://localhost:8080/",
          "height": 37
        },
        "id": "1XNDHhXhwYrg",
        "outputId": "13967270-043f-4033-815a-89496ab8cd99"
      },
      "execution_count": null,
      "outputs": [
        {
          "output_type": "execute_result",
          "data": {
            "text/plain": [
              "9.96390112201596e-9"
            ],
            "text/latex": "$\\displaystyle 9.96390112201596 \\cdot 10^{-9}$"
          },
          "metadata": {},
          "execution_count": 42
        }
      ]
    },
    {
      "cell_type": "code",
      "source": [
        "def main(f,a,b,x_point):\n",
        "    first_der=first_derivative(f,x_point,0.01)\n",
        "    f_diff=sp.diff(f,x)\n",
        "    f_diff_target=f_diff.subs(x,x_point)\n",
        "    delta=abs(abs(first_der)-abs(f_diff_target))\n",
        "    error=first_derivative_error(f,x_point,h)\n",
        "    print(f\"Approximate first derivative in point = {round(first_der,5)}\\nTrue first derivative in point = {round(f_diff_target,5)}\\nTest error = {round(delta,6)}\\nRule error {round(error,6)}\")\n",
        "    print(\"\\n=======================================\\n\")\n",
        "\n",
        "    second_der=second_derivative(f,x_point,0.01)\n",
        "    f_diff=sp.diff(f,x,x)\n",
        "    f_diff_target=f_diff.subs(x,x_point)\n",
        "    delta=abs(abs(second_der)-abs(f_diff_target))\n",
        "    error=second_derivative_error(f,x_point,h)\n",
        "    print(f\"Approximate second derivative in point = {round(second_der,7)}\\nTrue second derivative in point = {round(f_diff_target,7)}\\nTest error = {round(delta,13)}\\nRule error {round(error,13)}\")\n",
        "    print(\"\\n=======================================\\n\")\n",
        "\n",
        "    integral=integral_trapezoid(f,a,b,0.001)\n",
        "    delta=abs(abs(integral)-0.6593294)\n",
        "    error=integral_trapezoid_error(f,a,b,0.001)\n",
        "    print(f\"Integral trapezoid = {round(integral,7)}\\nCorrect integral = {0.6593294}\\nTest error = {round(delta,7)}\\nRule error = {round(error,7)}\")\n",
        "    print(\"\\n=======================================\\n\")\n",
        "\n",
        "    integral=intergate_rectangle(f,a,b,0.001)\n",
        "    delta=abs(abs(integral)-0.6593294)\n",
        "    error=integral_rectangle_error(f,a,b,0.001)\n",
        "    print(f\"Rectangele rectangle = {round(integral,7)}\\nCorrect integral = {0.6593294}\\nTest error = {round(delta,8)}\\nRule error = {round(error,15)}\")\n",
        "    print(\"\\n=======================================\\n\")"
      ],
      "metadata": {
        "id": "CyL19i2FXotK"
      },
      "execution_count": null,
      "outputs": []
    },
    {
      "cell_type": "code",
      "source": [
        "a=1\n",
        "b=2\n",
        "main(f,a,b,x_point)"
      ],
      "metadata": {
        "colab": {
          "base_uri": "https://localhost:8080/"
        },
        "id": "jfgw2ga-ZwDX",
        "outputId": "5f40741a-6787-48d1-d04b-28d966901274"
      },
      "execution_count": null,
      "outputs": [
        {
          "output_type": "stream",
          "name": "stdout",
          "text": [
            "0.239133626928383\n",
            "Approximate first derivative in point = -0.39685\n",
            "True first derivative in point = -0.39617\n",
            "Test error = 0.000680\n",
            "Rule error 0.001196\n",
            "\n",
            "=======================================\n",
            "\n",
            "0.133076685139860\n",
            "Approximate second derivative in point = -0.1367655\n",
            "True second derivative in point = -0.1367660\n",
            "Test error = 5.111088E-7\n",
            "Rule error 0.0000011089724\n",
            "\n",
            "=======================================\n",
            "\n",
            "Integral trapezoid = 0.6597843\n",
            "Correct integral = 0.6593294\n",
            "Test error = 0.0004549\n",
            "Rule error = 0.0000199\n",
            "\n",
            "=======================================\n",
            "\n",
            "Rectangele rectangle = 0.6599780\n",
            "Correct integral = 0.6593294\n",
            "Test error = 0.00064856\n",
            "Rule error = 9.963901E-9\n",
            "\n",
            "=======================================\n",
            "\n"
          ]
        }
      ]
    }
  ]
}