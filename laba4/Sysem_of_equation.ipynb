{
  "nbformat": 4,
  "nbformat_minor": 0,
  "metadata": {
    "colab": {
      "name": "Sysem_of_equation.ipynb",
      "provenance": [],
      "collapsed_sections": []
    },
    "kernelspec": {
      "name": "python3",
      "display_name": "Python 3"
    },
    "language_info": {
      "name": "python"
    }
  },
  "cells": [
    {
      "cell_type": "code",
      "source": [
        "import numpy as np\n",
        "import sympy as sp\n",
        "import copy"
      ],
      "metadata": {
        "id": "d-1vvAjAnuSt"
      },
      "execution_count": null,
      "outputs": []
    },
    {
      "cell_type": "code",
      "source": [
        "def get_jacobian(J,args,x_vector):\n",
        "  J_cur=J.subs(list(zip(args,x_vector)))\n",
        "  return J_cur.norm()"
      ],
      "metadata": {
        "id": "rwfwQfF449c-"
      },
      "execution_count": null,
      "outputs": []
    },
    {
      "cell_type": "code",
      "source": [
        "def get_jacobi_matrix(funcs_vector,args):\n",
        "  J = sp.zeros(len(funcs_vector),len(args))\n",
        "  for i, func in enumerate(funcs_vector):\n",
        "    for j, arg in enumerate(args):\n",
        "      J[i,j]=sp.diff(func,arg)\n",
        "  return J"
      ],
      "metadata": {
        "id": "EbgRI6P_3xi2"
      },
      "execution_count": null,
      "outputs": []
    },
    {
      "cell_type": "code",
      "source": [
        "def check_converge(J,args,x_vector):\n",
        "  if get_jacobian(J,args,x_vector)>1.0:\n",
        "    return \"Not converdge\"\n",
        "  else:\n",
        "    return \"Converdge\""
      ],
      "metadata": {
        "id": "jT768OMi63wC"
      },
      "execution_count": null,
      "outputs": []
    },
    {
      "cell_type": "code",
      "source": [
        "def newton_method(funcs_vector,args,args_val):\n",
        "  x_cur=sp.Matrix([args_val[0],args_val[1]])\n",
        "  x_prev=x_cur\n",
        "  J=get_jacobi_matrix(funcs_vector,args)\n",
        "  J_inv=J.inv()\n",
        "\n",
        "  x_prev=x_cur\n",
        "  iter_num=0\n",
        "  delta=1\n",
        "  while delta>0.0001:\n",
        "    J_cur=J_inv.subs(list(zip(args,x_prev)))\n",
        "    vector_prev=funcs_vector.subs(list(zip(args,x_prev)))\n",
        "    x_cur=x_prev-J_cur*vector_prev\n",
        "    delta=abs(x_cur-x_prev)\n",
        "    delta=delta.norm()\n",
        "    x_prev=x_cur\n",
        "    iter_num+=1\n",
        "  return x_cur,delta,iter_num"
      ],
      "metadata": {
        "id": "HqB6Kz1OsTPp"
      },
      "execution_count": null,
      "outputs": []
    },
    {
      "cell_type": "code",
      "source": [
        "x = sp.symbols('x')\n",
        "y = sp.symbols('y')\n",
        "f1=sp.tan(x*y+0.3)-x\n",
        "f2=0.5*x**2+2*y**2-1\n",
        "x0=1.0\n",
        "y0=0.5\n",
        "args_val=[x0,y0]\n",
        "x_cur=sp.Matrix([x0,y0])\n",
        "x_prev=sp.Matrix([0,0])\n",
        "funcs_vector=sp.Matrix([f1,f2])\n",
        "args=[x,y]"
      ],
      "metadata": {
        "id": "4t4f3yxfnpwW"
      },
      "execution_count": null,
      "outputs": []
    },
    {
      "cell_type": "code",
      "source": [
        "newton_method(funcs_vector,args,args_val)"
      ],
      "metadata": {
        "id": "DTd6wVjIL8B2",
        "colab": {
          "base_uri": "https://localhost:8080/"
        },
        "outputId": "3448c949-ccb8-429f-a34f-b9c8c70b3fb9"
      },
      "execution_count": null,
      "outputs": [
        {
          "output_type": "execute_result",
          "data": {
            "text/plain": [
              "(Matrix([\n",
              " [ 1.02798026461622],\n",
              " [0.485606985011596]]), 2.78143349938478e-6, 3)"
            ]
          },
          "metadata": {},
          "execution_count": 21
        }
      ]
    },
    {
      "cell_type": "code",
      "source": [
        ""
      ],
      "metadata": {
        "id": "tc-uEnnkYI4I"
      },
      "execution_count": null,
      "outputs": []
    },
    {
      "cell_type": "code",
      "source": [
        "def simple_iteration_method(funcs_vector,args,args_val):\n",
        "  x_cur=sp.Matrix([args_val[0],args_val[1]])\n",
        "  x_prev=x_cur\n",
        "  J=get_jacobi_matrix(funcs_vector,args)\n",
        "  print(check_converge(J,args,x_cur))\n",
        "  delta=0.1\n",
        "  iter_num=0\n",
        "  while delta>0.0001:\n",
        "    x_cur=funcs_vector.subs(list(zip(args,x_prev)))\n",
        "    delta=abs(x_cur-x_prev)\n",
        "    delta=delta.norm()\n",
        "    x_prev=x_cur\n",
        "    iter_num+=1\n",
        "    if iter_num>200:\n",
        "      print(\"Error\")\n",
        "      return 0\n",
        "  return x_cur,delta,iter_num"
      ],
      "metadata": {
        "id": "_ZC5Mv86BksM"
      },
      "execution_count": null,
      "outputs": []
    },
    {
      "cell_type": "code",
      "source": [
        "x = sp.symbols('x')\n",
        "y = sp.symbols('y')\n",
        "f1=sp.tan(x*y+0.3)\n",
        "f2=sp.sqrt((1-0.5*x**2)/2)\n",
        "x0=6\n",
        "y0=3\n",
        "args_val=[x0,y0]\n",
        "x_cur=sp.Matrix([x0,y0])\n",
        "x_prev=x_cur\n",
        "funcs_vector=sp.Matrix([f1,f2])\n",
        "args=[x,y]  "
      ],
      "metadata": {
        "id": "GspaEwVPPtIQ"
      },
      "execution_count": null,
      "outputs": []
    },
    {
      "cell_type": "code",
      "source": [
        "simple_iteration_method(funcs_vector,args,args_val)"
      ],
      "metadata": {
        "id": "ve3V-5m2DXgb"
      },
      "execution_count": null,
      "outputs": []
    },
    {
      "cell_type": "code",
      "source": [
        ""
      ],
      "metadata": {
        "id": "uOawIi3PiJ40"
      },
      "execution_count": null,
      "outputs": []
    },
    {
      "cell_type": "code",
      "source": [
        ""
      ],
      "metadata": {
        "id": "rV3mbSiOiJ_k"
      },
      "execution_count": null,
      "outputs": []
    },
    {
      "cell_type": "code",
      "source": [
        "def solve_system_newton(funcs_vector,args,args_val):\n",
        "  x_val,accuracy,num_iter=newton_method(funcs_vector,args,args_val)\n",
        "  x_vals=[]\n",
        "  for x in x_val:\n",
        "    x_vals.append(round(x,4))\n",
        "  print(f\"x = {x_vals}\\naccuracy={round(accuracy,10)}\\nNumber of iteration = {num_iter}\")\n",
        "  return x_val"
      ],
      "metadata": {
        "id": "SufyQa0rWggv"
      },
      "execution_count": null,
      "outputs": []
    },
    {
      "cell_type": "code",
      "source": [
        "x = sp.symbols('x')\n",
        "y = sp.symbols('y')\n",
        "f1=sp.tan(x*y+0.4)-x\n",
        "f2=0.6*x**2+2*y**2-1\n",
        "x0=12\n",
        "y0=12\n",
        "args_val=[x0,y0]\n",
        "x_cur=sp.Matrix([x0,y0])\n",
        "x_prev=sp.Matrix([0,0])\n",
        "funcs_vector=sp.Matrix([f1,f2])\n",
        "args=[x,y]"
      ],
      "metadata": {
        "id": "kbENFQa_WgkI"
      },
      "execution_count": null,
      "outputs": []
    },
    {
      "cell_type": "code",
      "source": [
        "x_val_1 = solve_system_newton(funcs_vector,args,args_val)"
      ],
      "metadata": {
        "colab": {
          "base_uri": "https://localhost:8080/"
        },
        "id": "_L5U-6rxhPRx",
        "outputId": "3008fb1d-40d1-41c9-8f99-8c55a83f5544"
      },
      "execution_count": null,
      "outputs": [
        {
          "output_type": "stream",
          "name": "stdout",
          "text": [
            "x = [0.2386, -0.6949]\n",
            "accuracy=2.79E-8\n",
            "Number of iteration = 113\n"
          ]
        }
      ]
    },
    {
      "cell_type": "code",
      "source": [
        "x = sp.symbols('x')\n",
        "y = sp.symbols('y')\n",
        "f1=sp.tan(x*y+0.401)-x\n",
        "f2=0.61*x**1.999+2*y**2-1.01\n",
        "x0=12\n",
        "y0=12\n",
        "args_val=[x0,y0]\n",
        "x_cur=sp.Matrix([x0,y0])\n",
        "x_prev=sp.Matrix([0,0])\n",
        "funcs_vector=sp.Matrix([f1,f2])\n",
        "args=[x,y]"
      ],
      "metadata": {
        "id": "lCxKR1-MiBxW"
      },
      "execution_count": null,
      "outputs": []
    },
    {
      "cell_type": "code",
      "source": [
        "x_val_2 = solve_system_newton(funcs_vector,args,args_val)"
      ],
      "metadata": {
        "id": "bedqdytFisDZ"
      },
      "execution_count": null,
      "outputs": []
    },
    {
      "cell_type": "code",
      "source": [
        "error=(x_val_1-x_val_2).norm()\n",
        "print(f\"Error = {round(error,7)}\")"
      ],
      "metadata": {
        "id": "M9C2SwH6izom"
      },
      "execution_count": null,
      "outputs": []
    },
    {
      "cell_type": "code",
      "source": [
        ""
      ],
      "metadata": {
        "id": "W7DN49bYj62n"
      },
      "execution_count": null,
      "outputs": []
    },
    {
      "cell_type": "code",
      "source": [
        "def solve_system_simple_itetation(funcs_vector,args,args_val):\n",
        "  x_val,accuracy,num_iter=simple_iteration_method(funcs_vector,args,args_val)\n",
        "  x_vals=[]\n",
        "  for x in x_val:\n",
        "    x_vals.append(round(x,4))\n",
        "  print(f\"x = {x_vals}\\naccuracy={round(accuracy,10)}\\nNumber of iteration = {num_iter}\")\n",
        "  return x_val"
      ],
      "metadata": {
        "id": "tywExJJzj65P"
      },
      "execution_count": null,
      "outputs": []
    },
    {
      "cell_type": "code",
      "source": [
        "x = sp.symbols('x')\n",
        "y = sp.symbols('y')\n",
        "f1=sp.tan(x*y)\n",
        "f2=np.sqrt(0.5)\n",
        "x0=1.0\n",
        "y0=0.7\n",
        "args_val=[x0,y0]\n",
        "x_cur=sp.Matrix([x0,y0])\n",
        "x_prev=sp.Matrix([0,0])\n",
        "funcs_vector=sp.Matrix([f1,f2])\n",
        "args=[x,y]"
      ],
      "metadata": {
        "id": "UQ6gXDtbj67p"
      },
      "execution_count": null,
      "outputs": []
    },
    {
      "cell_type": "code",
      "source": [
        "solve_system_simple_itetation(funcs_vector,args,args_val)"
      ],
      "metadata": {
        "colab": {
          "base_uri": "https://localhost:8080/",
          "height": 127
        },
        "id": "M3bpQ5cdkISE",
        "outputId": "1b5dea1c-6b94-497d-a874-f15b444886ed"
      },
      "execution_count": null,
      "outputs": [
        {
          "output_type": "stream",
          "name": "stdout",
          "text": [
            "Not converdge\n",
            "x = [0.0002, 0.7071]\n",
            "accuracy=0.0000819734\n",
            "Number of iteration = 26\n"
          ]
        },
        {
          "output_type": "execute_result",
          "data": {
            "text/plain": [
              "Matrix([\n",
              "[0.000197901383716284],\n",
              "[   0.707106781186548]])"
            ],
            "text/latex": "$\\displaystyle \\left[\\begin{matrix}0.000197901383716284\\\\0.707106781186548\\end{matrix}\\right]$"
          },
          "metadata": {},
          "execution_count": 137
        }
      ]
    }
  ]
}