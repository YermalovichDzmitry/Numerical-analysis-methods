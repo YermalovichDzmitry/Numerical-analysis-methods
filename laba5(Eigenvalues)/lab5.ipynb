{
  "nbformat": 4,
  "nbformat_minor": 0,
  "metadata": {
    "colab": {
      "name": "lab5.ipynb",
      "provenance": [],
      "collapsed_sections": []
    },
    "kernelspec": {
      "name": "python3",
      "display_name": "Python 3"
    },
    "language_info": {
      "name": "python"
    }
  },
  "cells": [
    {
      "cell_type": "code",
      "source": [
        "import sympy as sp\n",
        "import numpy as np\n",
        "import math"
      ],
      "metadata": {
        "id": "I6BBD08zFdbc"
      },
      "execution_count": 1,
      "outputs": []
    },
    {
      "cell_type": "code",
      "source": [
        ""
      ],
      "metadata": {
        "id": "Qb3E7DbsFddq"
      },
      "execution_count": null,
      "outputs": []
    },
    {
      "cell_type": "code",
      "execution_count": 2,
      "metadata": {
        "id": "8Ztc7fGhEIeG"
      },
      "outputs": [],
      "source": [
        "C = np.array([\n",
        "        [0.2, 0.0, 0.2, 0.0, 0.0], \n",
        "        [0.0, 0.2, 0.0, 0.2, 0.0], \n",
        "        [0.2, 0.0, 0.2, 0.0, 0.2], \n",
        "        [0.0, 0.2, 0.0, 0.2, 0.0], \n",
        "        [0.0, 0.0, 0.2, 0.0, 0.2]\n",
        "        ])\n",
        "D = np.array([\n",
        "        [ 2.33,  0.81,  0.67,  0.92, -0.53], \n",
        "        [ 0.81,  2.33,  0.81,  0.67,  0.92], \n",
        "        [ 0.67,  0.81,  2.33,  0.81,  0.92], \n",
        "        [ 0.92,  0.67,  0.81,  2.33, -0.53], \n",
        "        [-0.53,  0.92,  0.92, -0.53,  2.33]\n",
        "        ])\n",
        "A = 8 * C + D"
      ]
    },
    {
      "cell_type": "code",
      "source": [
        "A[0,1]+=0.001\n",
        "A[2,3]+=0.001\n",
        "A[4,1]-=0.001\n",
        "A[3,3]+=0.001\n",
        "A[1,4]-=0.001"
      ],
      "metadata": {
        "id": "28BWr6Dwiegv"
      },
      "execution_count": null,
      "outputs": []
    },
    {
      "cell_type": "code",
      "source": [
        "def find_max_not_diag_elem(A):\n",
        "  max_elem=abs(A[0,1])\n",
        "  max_elem_index=[0,1]\n",
        "  for i in range(A.shape[0]):\n",
        "    for j in range(A.shape[1]):\n",
        "      if i!=j and j>i:\n",
        "        if abs(A[i,j])>abs(max_elem):\n",
        "          max_elem=A[i,j]\n",
        "          max_elem_index[0]=i\n",
        "          max_elem_index[1]=j\n",
        "  i_max,j_max=max_elem_index\n",
        "  return i_max,j_max"
      ],
      "metadata": {
        "id": "LrMOWn4lIHUw"
      },
      "execution_count": null,
      "outputs": []
    },
    {
      "cell_type": "code",
      "source": [
        "def calc_p(A,i_max,j_max):\n",
        "  if A[i_max,i_max]!=A[j_max,j_max]:\n",
        "    Pij=2*A[i_max,j_max]/(A[i_max,i_max]-A[j_max,j_max])\n",
        "  else:\n",
        "    Pij=math.pi/4\n",
        "  return Pij"
      ],
      "metadata": {
        "id": "iPyke22tn6Rv"
      },
      "execution_count": null,
      "outputs": []
    },
    {
      "cell_type": "code",
      "source": [
        "def cos_sin(Pij):\n",
        "  c=cos_Fi = np.sqrt(0.5*(1+(1+Pij**2)**-1))\n",
        "  s=sin_Fi = np.sqrt(0.5*(1-(1+Pij**2)**-1))\n",
        "  return c,s"
      ],
      "metadata": {
        "id": "_pfgy2OxoMxW"
      },
      "execution_count": null,
      "outputs": []
    },
    {
      "cell_type": "code",
      "source": [
        "def Jcobi_method(A,key=2):\n",
        "  Matrix_array=[]\n",
        "  ansV=np.eye(A.shape[0])\n",
        "  k=0\n",
        "  delta=1\n",
        "  while delta>0.0001:\n",
        "    i_max,j_max=find_max_not_diag_elem(A)\n",
        "    V=np.zeros(A.shape)\n",
        "    Pij = calc_p(A,i_max,j_max)\n",
        "    if key==1:\n",
        "      c,s = cos_sin(Pij)\n",
        "    elif key==2:\n",
        "      c = np.cos(1/2 * np.arctan(Pij))\n",
        "      s = np.sin(1/2 * np.arctan(Pij))\n",
        "    else:\n",
        "      return 0\n",
        "    cos_Fi=c\n",
        "    sin_Fi=s\n",
        "\n",
        "    V = np.eye(A.shape[0])\n",
        "    V[i_max,i_max]=cos_Fi\n",
        "    V[j_max,j_max]=cos_Fi\n",
        "    V[i_max,j_max]=-sin_Fi\n",
        "    V[j_max,i_max]=sin_Fi\n",
        "\n",
        "    A=np.dot(np.dot(V.transpose(),A),V)\n",
        "\n",
        "    ansV=np.dot(ansV,V)\n",
        "    delta=(A**2).sum()-((A**2).diagonal()).sum()\n",
        "    k+=1\n",
        "  return A.diagonal(),ansV,k"
      ],
      "metadata": {
        "id": "UW8CTKc6j0xx"
      },
      "execution_count": null,
      "outputs": []
    },
    {
      "cell_type": "code",
      "source": [
        "def QR_method(A):\n",
        "  delta=1\n",
        "  k=0\n",
        "  ansQ=np.eye(A.shape[0])\n",
        "  while delta>0.0001:\n",
        "    Q,R=np.linalg.qr(A)\n",
        "    #A=np.dot(np.dot(Q,R),Q.transpose())\n",
        "    A=np.dot(np.dot(Q.transpose(),A),Q)\n",
        "    delta=(A**2).sum()-((A**2).diagonal()).sum()\n",
        "    k+=1\n",
        "    ansQ=np.dot(ansQ,Q)\n",
        "  return A.diagonal(),ansQ,k"
      ],
      "metadata": {
        "id": "suXvbyUIwIR8"
      },
      "execution_count": null,
      "outputs": []
    },
    {
      "cell_type": "code",
      "source": [
        "QR_method(A)"
      ],
      "metadata": {
        "id": "fQSD42rq0x_Z"
      },
      "execution_count": null,
      "outputs": []
    },
    {
      "cell_type": "code",
      "source": [
        "def main(A):\n",
        "  eigenvalues,eigenvectors,k=Jcobi_method(A,key=2)\n",
        "  eigenvectors1=eigenvectors\n",
        "  eigenvalues1=eigenvalues\n",
        "  print(f\"Метод Якоби\\n\")\n",
        "  print(f\"Собственные значения = \\n{eigenvalues}\\n\")\n",
        "  print(f\"Собственные вектора = \\n{eigenvectors}\\n\")\n",
        "  print(f\"Количество опреаций = {k}\\n-------------\")\n",
        "\n",
        "  eigenvalues,eigenvectors,k=QR_method(A)\n",
        "  eigenvectors2=eigenvectors\n",
        "  eigenvalues2=eigenvalues\n",
        "  print(f\"\\nQR метод\\n\")\n",
        "  print(f\"Собственные значения = \\n{eigenvalues}\\n\")\n",
        "  print(f\"Собственные вектора = \\n{eigenvectors}\\n\")\n",
        "  print(f\"Количество опреаций = {k}\\n-------------\")\n",
        "\n",
        "  print(f\"\\nПравильный ответ \\n{np.linalg.eigh(A)[0]}\\n\\n{np.linalg.eigh(A)[1]}\")\n",
        "  return eigenvectors1,eigenvalues1,eigenvectors2,eigenvalues2"
      ],
      "metadata": {
        "id": "S9FdDxrJl0Sc"
      },
      "execution_count": null,
      "outputs": []
    },
    {
      "cell_type": "code",
      "source": [
        "eigenvectors1_change,eigenvalues1_change,eigenvectors2_change,eigenvalues2_change=main(A)"
      ],
      "metadata": {
        "id": "JiLQB3F5lMUe"
      },
      "execution_count": null,
      "outputs": []
    },
    {
      "cell_type": "code",
      "source": [
        "eigenvectors1_origin,eigenvalues1_origin,eigenvectors2_origin,eigenvalues2_origin=main(A)"
      ],
      "metadata": {
        "id": "7eZ9Nt_ppBmv"
      },
      "execution_count": null,
      "outputs": []
    },
    {
      "cell_type": "code",
      "source": [
        "eigenvalues2_change"
      ],
      "metadata": {
        "colab": {
          "base_uri": "https://localhost:8080/"
        },
        "id": "9sj81nPiwCjl",
        "outputId": "09f1c3a6-df41-40af-eeb7-34f1af8eb015"
      },
      "execution_count": null,
      "outputs": [
        {
          "output_type": "execute_result",
          "data": {
            "text/plain": [
              "array([8.28890765, 5.51930842, 4.147317  , 1.61707119, 0.07839574])"
            ]
          },
          "metadata": {},
          "execution_count": 94
        }
      ]
    },
    {
      "cell_type": "code",
      "source": [
        "eigenvalues2_origin"
      ],
      "metadata": {
        "colab": {
          "base_uri": "https://localhost:8080/"
        },
        "id": "SNH95KniwDfq",
        "outputId": "6ecde2c1-005d-4f2e-a85a-6c4b34ab4445"
      },
      "execution_count": null,
      "outputs": [
        {
          "output_type": "execute_result",
          "data": {
            "text/plain": [
              "array([8.28862463, 5.51875722, 4.14804248, 1.61624866, 0.07832702])"
            ]
          },
          "metadata": {},
          "execution_count": 95
        }
      ]
    },
    {
      "cell_type": "code",
      "source": [
        "round(np.linalg.norm(eigenvalues2_change-eigenvalues2_origin),7)"
      ],
      "metadata": {
        "colab": {
          "base_uri": "https://localhost:8080/"
        },
        "id": "a6TGYaC8wWkj",
        "outputId": "eca779d2-4a7f-4a02-a1b8-ac259a7f298a"
      },
      "execution_count": null,
      "outputs": [
        {
          "output_type": "execute_result",
          "data": {
            "text/plain": [
              "0.0012616"
            ]
          },
          "metadata": {},
          "execution_count": 98
        }
      ]
    },
    {
      "cell_type": "code",
      "source": [
        "eigenvalues1_change=np.array([4.14730814,8.28890627,5.5193173,1.61706313,0.07840515])"
      ],
      "metadata": {
        "id": "zp3y0_jLrZU6"
      },
      "execution_count": null,
      "outputs": []
    },
    {
      "cell_type": "code",
      "source": [
        "#eigenvalues1_change"
      ],
      "metadata": {
        "id": "0MTNlRfiludK"
      },
      "execution_count": null,
      "outputs": []
    },
    {
      "cell_type": "code",
      "source": [
        "eigenvalues1_origin"
      ],
      "metadata": {
        "colab": {
          "base_uri": "https://localhost:8080/"
        },
        "id": "zyWQkt3Vlsxt",
        "outputId": "b7ff3937-0094-4c23-fde7-b8ea169cb4ee"
      },
      "execution_count": null,
      "outputs": [
        {
          "output_type": "execute_result",
          "data": {
            "text/plain": [
              "array([4.14803285, 8.28862321, 5.51876685, 1.61623894, 0.07833815])"
            ]
          },
          "metadata": {},
          "execution_count": 83
        }
      ]
    },
    {
      "cell_type": "code",
      "source": [
        "round(np.linalg.norm(eigenvalues1_change-eigenvalues1_origin),7)"
      ],
      "metadata": {
        "colab": {
          "base_uri": "https://localhost:8080/"
        },
        "id": "UFYs7yWQlWk_",
        "outputId": "6382e5f0-dc7c-46af-9af7-d4c53794218d"
      },
      "execution_count": null,
      "outputs": [
        {
          "output_type": "execute_result",
          "data": {
            "text/plain": [
              "0.0012618"
            ]
          },
          "metadata": {},
          "execution_count": 97
        }
      ]
    }
  ]
}