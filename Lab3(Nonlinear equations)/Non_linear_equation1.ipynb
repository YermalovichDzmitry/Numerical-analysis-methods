{
  "cells": [
    {
      "cell_type": "code",
      "execution_count": null,
      "metadata": {
        "id": "OFCOHIoGyVpC"
      },
      "outputs": [],
      "source": [
        "import numpy as np\n",
        "import sympy as sp\n",
        "import copy"
      ]
    },
    {
      "cell_type": "code",
      "execution_count": null,
      "metadata": {
        "id": "cuSfVT4hyYI2"
      },
      "outputs": [],
      "source": [
        "def get_root_number(F,borders):\n",
        "  F_dir=sp.diff(F,x)\n",
        "\n",
        "  functions=[]\n",
        "  deg=sp.degree(F,gen=x)\n",
        "  functions.append(F)\n",
        "  functions.append(F_dir)\n",
        "\n",
        "  for i in range(deg-1):\n",
        "    functions.append(-1*sp.rem(functions[i],functions[i+1]))\n",
        "\n",
        "  signs_left_border=[]\n",
        "  signs_right_border=[]\n",
        "\n",
        "  for func in functions:\n",
        "    signs_left_border.append(func.subs(x,borders[0]))\n",
        "    signs_right_border.append(func.subs(x,borders[1]))\n",
        "\n",
        "  w_left_border=0\n",
        "  w_right_border=0\n",
        "\n",
        "  for i in range(len(signs_left_border)-1):\n",
        "    if (signs_left_border[i]<0 and  signs_left_border[i+1]>0) or (signs_left_border[i]>0 and  signs_left_border[i+1]<0):\n",
        "      w_left_border+=1\n",
        "      \n",
        "    if (signs_right_border[i]<0 and  signs_right_border[i+1]>0) or (signs_right_border[i]>0 and  signs_right_border[i+1]<0):\n",
        "      w_right_border+=1\n",
        "\n",
        "  number_of_roots = w_left_border - w_right_border\n",
        "  return number_of_roots"
      ]
    },
    {
      "cell_type": "code",
      "execution_count": null,
      "metadata": {
        "id": "wrSOPVjcyZ3t"
      },
      "outputs": [],
      "source": [
        "def get_intervals_with_roots(F,borders):\n",
        "  intervals=np.arange(borders[0],borders[1]+1,0.7)\n",
        "  intervals_with_roots=[]\n",
        "  for i in range(len(intervals)-1):\n",
        "    number_of_roots=get_root_number(F,[intervals[i],intervals[i+1]])\n",
        "    if number_of_roots==1:\n",
        "      intervals_with_roots.append((intervals[i],intervals[i+1]))\n",
        "    elif number_of_roots>1:\n",
        "      print(\"Number_of_roots more than one\")\n",
        "  return intervals_with_roots"
      ]
    },
    {
      "cell_type": "code",
      "execution_count": null,
      "metadata": {
        "id": "S9AoDokPycxf"
      },
      "outputs": [],
      "source": [
        "def chord_method(F,borders,key=False):\n",
        "\n",
        "  if not key:\n",
        "    amount_of_roots=get_root_number(F,borders)\n",
        "    intervals_with_roots=get_intervals_with_roots(F,borders)\n",
        "  else:\n",
        "    intervals_with_roots=borders\n",
        "\n",
        "  k=0\n",
        "  x_vals=[]\n",
        "  n=0\n",
        "  num_of_iteration=[]\n",
        "  deltas=[]\n",
        "  for interval in intervals_with_roots:\n",
        "    a=interval[0]\n",
        "    b=interval[1]\n",
        "\n",
        "    F_2_dif=sp.diff(F,x,x)\n",
        "    if F.subs(x,b)*F_2_dif.subs(x,b)>0:\n",
        "      k=1\n",
        "    elif F.subs(x,a)*F_2_dif.subs(x,a)>0:\n",
        "      k=2\n",
        "\n",
        "    x_prev=120.0\n",
        "\n",
        "    if k==1:\n",
        "      delta=100\n",
        "      x_cur=a\n",
        "      while abs(x_cur-x_prev)>0.0001:\n",
        "        x_prev=x_cur\n",
        "        x_cur=x_cur-(F.subs(x,x_cur)/(F.subs(x,b)-F.subs(x,x_cur)))*(b-x_cur)\n",
        "        delta=abs(x_cur-x_prev)\n",
        "        n+=1\n",
        "    elif k==2:\n",
        "      delta=100\n",
        "      x_cur=b\n",
        "      while delta>0.0001:\n",
        "        x_prev=x_cur\n",
        "        x_cur=x_cur-(F.subs(x,x_cur)/(F.subs(x,a)-F.subs(x,x_cur)))*(a-x_cur)\n",
        "        delta=abs(x_cur-x_prev)\n",
        "        n+=1\n",
        "    deltas.append(delta)\n",
        "    num_of_iteration.append(n)\n",
        "    x_vals.append(round(x_cur,4))\n",
        "  return x_vals,num_of_iteration,deltas"
      ]
    },
    {
      "cell_type": "code",
      "execution_count": null,
      "metadata": {
        "id": "QuHvdJBFyfEq"
      },
      "outputs": [],
      "source": [
        "def Newton_method(F,borders,key=False):\n",
        "\n",
        "  if not key:\n",
        "    amount_of_roots=get_root_number(F,borders)\n",
        "    intervals_with_roots=get_intervals_with_roots(F,borders)\n",
        "  else:\n",
        "    intervals_with_roots=borders\n",
        "\n",
        "  k=0\n",
        "  x_vals=[]\n",
        "  n=0\n",
        "  num_of_iteration=[]\n",
        "  deltas=[]\n",
        "  for interval in intervals_with_roots:\n",
        "    a=interval[0]\n",
        "    b=interval[1]\n",
        "\n",
        "    F_1_dif=sp.diff(F,x)\n",
        "    F_2_dif=sp.diff(F,x,x)\n",
        "    if F.subs(x,a)*F_2_dif.subs(x,a)>0:\n",
        "      k=1\n",
        "    elif F.subs(x,b)*F_2_dif.subs(x,b)>0:\n",
        "      k=2\n",
        "\n",
        "    x_prev=120.0\n",
        "\n",
        "    if k==1:\n",
        "      delta=100\n",
        "      x_cur=a\n",
        "      while abs(x_cur-x_prev)>0.0001:\n",
        "        x_prev=x_cur\n",
        "        x_cur=x_cur-(F.subs(x,x_cur)/F_1_dif.subs(x,x_cur))\n",
        "        delta=abs(x_cur-x_prev)\n",
        "        n+=1\n",
        "    elif k==2:\n",
        "      delta=100\n",
        "      x_cur=b\n",
        "      while delta>0.0001:\n",
        "        x_prev=x_cur\n",
        "        x_cur=x_cur-(F.subs(x,x_cur)/F_1_dif.subs(x,x_cur))\n",
        "        delta=abs(x_cur-x_prev)\n",
        "        n+=1\n",
        "    deltas.append(delta)\n",
        "    x_vals.append(round(x_cur,4))\n",
        "    num_of_iteration.append(n)\n",
        "  return x_vals,num_of_iteration,deltas"
      ]
    },
    {
      "cell_type": "code",
      "execution_count": null,
      "metadata": {
        "id": "Nxs_p3kbygVj"
      },
      "outputs": [],
      "source": [
        "def half_division_method(F,borders,key=False):\n",
        "  if not key:\n",
        "    amount_of_roots=get_root_number(F,borders)\n",
        "    intervals_with_roots=get_intervals_with_roots(F,borders)\n",
        "  else:\n",
        "    intervals_with_roots=borders\n",
        "\n",
        "  x_cur=0\n",
        "  k=0\n",
        "  x_vals=[]\n",
        "  n=0\n",
        "  num_of_iteration=[]\n",
        "  deltas=[]\n",
        "  for interval in intervals_with_roots:\n",
        "    delta=100\n",
        "    x_prev=100\n",
        "    a=interval[0]\n",
        "    b=interval[1]\n",
        "    while delta>0.0001:\n",
        "      x_prev=x_cur\n",
        "      x_cur=(a+b)/2\n",
        "      f=F.subs(x,x_cur)\n",
        "      if f*F.subs(x,a)<0:\n",
        "        b=x_cur\n",
        "      else:\n",
        "        a=x_cur\n",
        "      delta=abs(x_cur-x_prev) \n",
        "      n+=1\n",
        "    deltas.append(delta)\n",
        "    num_of_iteration.append(n)\n",
        "    x_vals.append(round(x_cur,4))\n",
        "\n",
        "  return x_vals,num_of_iteration,deltas"
      ]
    },
    {
      "cell_type": "code",
      "execution_count": null,
      "metadata": {
        "id": "6ZyYqHMgyjYQ"
      },
      "outputs": [],
      "source": [
        "x = sp.symbols('x')\n",
        "\n",
        "a = -13.3667\n",
        "b = 39.8645\n",
        "c = -20.6282\n",
        "\n",
        "borders=[-10,10]\n",
        "F=x**3+a*x**2+b*x+c\n",
        "\n",
        "#Тесты\n",
        "# F=x**2-4*x+4 #Кратный корень\n",
        "# borders=[-10,10]\n",
        "\n",
        "# F=-x**2+4*x-4 #Вырожденный корень\n",
        "# borders=[-10,10]\n",
        "\n",
        "# F=x-3 #Первого порядка\n",
        "# borders=[-10,10]\n",
        "\n",
        "# F=x**2+2 #Нет корней\n",
        "# borders=[-10,10]"
      ]
    },
    {
      "cell_type": "code",
      "execution_count": null,
      "metadata": {
        "id": "OrPeXqDvoKFv"
      },
      "outputs": [],
      "source": [
        "number_of_roots=get_root_number(F,borders)"
      ]
    },
    {
      "cell_type": "code",
      "execution_count": null,
      "metadata": {
        "colab": {
          "base_uri": "https://localhost:8080/",
          "height": 39
        },
        "id": "sJCidAUHGogo",
        "outputId": "73e8e58b-7efb-4375-fefb-af82ac71bb0e"
      },
      "outputs": [
        {
          "data": {
            "text/latex": [
              "$\\displaystyle x^{3} - 13.3667 x^{2} + 39.8645 x - 20.6282$"
            ],
            "text/plain": [
              "x**3 - 13.3667*x**2 + 39.8645*x - 20.6282"
            ]
          },
          "execution_count": 125,
          "metadata": {},
          "output_type": "execute_result"
        }
      ],
      "source": [
        "F"
      ]
    },
    {
      "cell_type": "code",
      "execution_count": null,
      "metadata": {
        "id": "IoVVkxMrKsvu"
      },
      "outputs": [],
      "source": [
        "def execution_conditions(F,border):\n",
        "  if F.subs(x,border[0])*F.subs(x,border[1])<0:\n",
        "    return 1\n",
        "  else:\n",
        "    return 0"
      ]
    },
    {
      "cell_type": "code",
      "execution_count": null,
      "metadata": {
        "id": "VupqDXGwN067"
      },
      "outputs": [],
      "source": [
        "def check_intervals(F,borders):\n",
        "  borders_for_methods=[]\n",
        "  borders_for_roots=[]\n",
        "  k=0\n",
        "  try:\n",
        "    a=borders[0][0]\n",
        "    k=1\n",
        "  except BaseException:\n",
        "    k=0\n",
        "\n",
        "\n",
        "  if k==1:\n",
        "    for border in borders:\n",
        "      res=execution_conditions(F,border)\n",
        "      if res:\n",
        "        borders_for_methods.append(border)\n",
        "        return borders_for_methods,borders_for_roots\n",
        "      else:\n",
        "        borders_for_roots.append(border)\n",
        "        return borders_for_methods,borders_for_roots\n",
        "  elif k==0:\n",
        "    res=execution_conditions(F,borders)\n",
        "    if res:\n",
        "      borders_for_methods.append(borders)\n",
        "      return borders_for_methods,borders_for_roots\n",
        "    else:\n",
        "      borders_for_roots.append(borders)\n",
        "      return borders_for_methods,borders_for_roots\n",
        "\n",
        "  return borders_for_methods,borders_for_roots"
      ]
    },
    {
      "cell_type": "code",
      "execution_count": null,
      "metadata": {
        "id": "s9rAspdqWCe8"
      },
      "outputs": [],
      "source": [
        "def solve_eq(F,borders):\n",
        "  Diff_func=sp.diff(F,x)\n",
        "  x_vals,num_of_iteration,deltas=half_division_method(Diff_func,borders,True)\n",
        "  return x_vals,num_of_iteration,deltas"
      ]
    },
    {
      "cell_type": "code",
      "execution_count": null,
      "metadata": {
        "id": "ReK4fb7DOBdI"
      },
      "outputs": [],
      "source": [
        "# interval_with_roots = get_intervals_with_roots(F,borders)\n",
        "# check_intervals(F,interval_with_roots)"
      ]
    },
    {
      "cell_type": "code",
      "execution_count": null,
      "metadata": {
        "id": "sYtEduIeejkC"
      },
      "outputs": [],
      "source": [
        "# borders_for_methods,borders_for_roots=check_intervals(F,interval_with_roots)\n",
        "# solve_eq(F,borders_for_roots)"
      ]
    },
    {
      "cell_type": "code",
      "execution_count": null,
      "metadata": {
        "id": "vLMy1l1uxVdK"
      },
      "outputs": [],
      "source": [
        "def check_convex(F,borders):\n",
        "  F_diff2=sp.diff(F,x,x)\n",
        "  interval=borders\n",
        "  left=interval[0][0]+0.00001\n",
        "  if F_diff2.subs(x,left)<0:\n",
        "    print(\"Function in the vicinity of the solution is convex\\n\")\n",
        "  else:\n",
        "    print(\"Function in the vicinity of the solution is concave\\n\")"
      ]
    },
    {
      "cell_type": "code",
      "execution_count": null,
      "metadata": {
        "id": "DhHM8cudzdSc"
      },
      "outputs": [],
      "source": [
        "def print_answ(x_vals,n,method_name,acc):\n",
        "  print(f\"{method_name}\")\n",
        "  print(f\"Num of iteration = {n[0]}\")\n",
        "  print(f\"x = {round(x_vals[0],4)}\")\n",
        "  print(f\"Accuracy = {acc}\")\n",
        "  # for i,x_val in enumerate(x_vals):\n",
        "  #   print(f\"x{i} = {x_val}}\")\n",
        "  print()"
      ]
    },
    {
      "cell_type": "code",
      "execution_count": null,
      "metadata": {
        "id": "nrQTZz6Cyi2m"
      },
      "outputs": [],
      "source": [
        "def run(F,borders):\n",
        "  number_of_roots=get_root_number(F,borders)\n",
        "  print(f\"{number_of_roots} roots on the segment from {borders[0]} to {borders[1]} \")\n",
        "  if number_of_roots==0:\n",
        "    print(\"No real(действительных) roots\")\n",
        "    return 0\n",
        "  print()\n",
        "  deg=sp.degree(F,gen=x)\n",
        "  intervals_with_roots=get_intervals_with_roots(F,borders)\n",
        "  borders_for_methods,borders_for_roots=check_intervals(F,intervals_with_roots)\n",
        "  if borders_for_methods:\n",
        "    if deg>=2:\n",
        "      check_convex(F,borders_for_methods)\n",
        "      x_val_1,n1,acc1=chord_method(F,borders_for_methods,True)\n",
        "      x_val_2,n2,acc2=Newton_method(F,borders_for_methods,True)\n",
        "      print_answ(x_val_1,n1,\"Method chord_method\",acc1[0])\n",
        "      print_answ(x_val_2,n2,\"Method Newton_method\",acc2[0])\n",
        "    else:\n",
        "      print(\"Chord method and Newton_method don't work because function is not twice differentiable\\n\")\n",
        "\n",
        "    x_val_3,n3,acc3=half_division_method(F,borders_for_methods,True)\n",
        "    print_answ(x_val_3,n3,\"Method half_division_method\",acc3[0])\n",
        "\n",
        "  if borders_for_roots:\n",
        "    x_val_4,n4,acc4=solve_eq(F,borders_for_roots)\n",
        "    print_answ(x_val_4,n4,\"The Bolzano Cauchy theorem is not fulfilled\\nThe root is multiple or degenerate\\n \",acc4[0])"
      ]
    },
    {
      "cell_type": "code",
      "execution_count": null,
      "metadata": {
        "colab": {
          "base_uri": "https://localhost:8080/"
        },
        "id": "7lLUJ2Vi1wL4",
        "outputId": "8022083a-e1c8-472d-da2c-d6af6b611a6e"
      },
      "outputs": [
        {
          "name": "stdout",
          "output_type": "stream",
          "text": [
            "3 roots on the segment from -10 to 10 \n",
            "\n",
            "Function in the vicinity of the solution is convex\n",
            "\n",
            "Method chord_method\n",
            "Num of iteration = 5\n",
            "x = 0.6538\n",
            "Accuracy = 0.0000153746082613981\n",
            "\n",
            "Method Newton_method\n",
            "Num of iteration = 3\n",
            "x = 0.6538\n",
            "Accuracy = 0.0000493686997935505\n",
            "\n",
            "Method half_division_method\n",
            "Num of iteration = 13\n",
            "x = 0.6537\n",
            "Accuracy = 8.54492187499778e-05\n",
            "\n"
          ]
        }
      ],
      "source": [
        "run(F,borders)"
      ]
    }
  ],
  "metadata": {
    "colab": {
      "collapsed_sections": [],
      "name": "Non-linear equation",
      "provenance": []
    },
    "kernelspec": {
      "display_name": "Python 3",
      "name": "python3"
    },
    "language_info": {
      "name": "python"
    }
  },
  "nbformat": 4,
  "nbformat_minor": 0
}
