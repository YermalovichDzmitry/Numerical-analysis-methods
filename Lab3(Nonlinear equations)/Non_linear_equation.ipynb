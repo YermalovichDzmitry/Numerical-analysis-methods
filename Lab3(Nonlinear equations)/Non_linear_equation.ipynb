{
  "nbformat": 4,
  "nbformat_minor": 0,
  "metadata": {
    "colab": {
      "name": "Non-linear equation",
      "provenance": [],
      "collapsed_sections": []
    },
    "kernelspec": {
      "name": "python3",
      "display_name": "Python 3"
    },
    "language_info": {
      "name": "python"
    }
  },
  "cells": [
    {
      "cell_type": "code",
      "execution_count": 1,
      "metadata": {
        "id": "OFCOHIoGyVpC"
      },
      "outputs": [],
      "source": [
        "import numpy as np\n",
        "import sympy as sp\n",
        "import copy"
      ]
    },
    {
      "cell_type": "code",
      "source": [
        "def get_root_number(F,borders):\n",
        "  F_dir=sp.diff(F,x)\n",
        "\n",
        "  functions=[]\n",
        "  deg=sp.degree(F,gen=x)\n",
        "  functions.append(F)\n",
        "  functions.append(F_dir)\n",
        "\n",
        "  for i in range(deg-1):\n",
        "    functions.append(-1*sp.rem(functions[i],functions[i+1]))\n",
        "\n",
        "  signs_left_border=[]\n",
        "  signs_right_border=[]\n",
        "\n",
        "  for func in functions:\n",
        "    signs_left_border.append(func.subs(x,borders[0]))\n",
        "    signs_right_border.append(func.subs(x,borders[1]))\n",
        "\n",
        "  w_left_border=0\n",
        "  w_right_border=0\n",
        "\n",
        "  for i in range(len(signs_left_border)-1):\n",
        "    if (signs_left_border[i]<0 and  signs_left_border[i+1]>0) or (signs_left_border[i]>0 and  signs_left_border[i+1]<0):\n",
        "      w_left_border+=1\n",
        "      \n",
        "    if (signs_right_border[i]<0 and  signs_right_border[i+1]>0) or (signs_right_border[i]>0 and  signs_right_border[i+1]<0):\n",
        "      w_right_border+=1\n",
        "\n",
        "  number_of_roots = w_left_border - w_right_border\n",
        "  return number_of_roots"
      ],
      "metadata": {
        "id": "cuSfVT4hyYI2"
      },
      "execution_count": 2,
      "outputs": []
    },
    {
      "cell_type": "code",
      "source": [
        "def get_intervals_with_roots(F,borders):\n",
        "  intervals=np.arange(borders[0],borders[1]+1,0.1)\n",
        "  intervals_with_roots=[]\n",
        "  for i in range(len(intervals)-1):\n",
        "    number_of_roots=get_root_number(F,[intervals[i],intervals[i+1]])\n",
        "    if number_of_roots==1:\n",
        "      intervals_with_roots.append((intervals[i],intervals[i+1]))\n",
        "    elif number_of_roots>1:\n",
        "      print(\"Number_of_roots more than one\")\n",
        "  return intervals_with_roots"
      ],
      "metadata": {
        "id": "wrSOPVjcyZ3t"
      },
      "execution_count": 3,
      "outputs": []
    },
    {
      "cell_type": "code",
      "source": [
        "def chord_method(F,borders):\n",
        "\n",
        "  amount_of_roots=get_root_number(F,borders)\n",
        "  intervals_with_roots=get_intervals_with_roots(F,borders)\n",
        "  if amount_of_roots!=len(intervals_with_roots):\n",
        "    print(\"Error\")\n",
        "    return 0\n",
        "  else:\n",
        "    print(\"Ok\")\n",
        "\n",
        "  k=0\n",
        "  x_vals=[]\n",
        "  n=0\n",
        "  num_of_iteration=[]\n",
        "  for interval in intervals_with_roots:\n",
        "    a=interval[0]\n",
        "    b=interval[1]\n",
        "\n",
        "    F_2_dif=sp.diff(F,x,x)\n",
        "    if F.subs(x,b)*F_2_dif.subs(x,b)>0:\n",
        "      k=1\n",
        "    elif F.subs(x,a)*F_2_dif.subs(x,a)>0:\n",
        "      k=2\n",
        "\n",
        "    x_prev=120.0\n",
        "\n",
        "    if k==1:\n",
        "      delta=100\n",
        "      x_cur=a\n",
        "      while abs(x_cur-x_prev)>0.0001:\n",
        "        x_prev=x_cur\n",
        "        x_cur=x_cur-(F.subs(x,x_cur)/(F.subs(x,b)-F.subs(x,x_cur)))*(b-x_cur)\n",
        "        delta=abs(x_cur-x_prev)\n",
        "        n+=1\n",
        "    elif k==2:\n",
        "      delta=100\n",
        "      x_cur=b\n",
        "      while delta>0.0001:\n",
        "        x_prev=x_cur\n",
        "        x_cur=x_cur-(F.subs(x,x_cur)/(F.subs(x,a)-F.subs(x,x_cur)))*(a-x_cur)\n",
        "        delta=abs(x_cur-x_prev)\n",
        "        n+=1\n",
        "    num_of_iteration.append(n)\n",
        "    x_vals.append(round(x_cur,4))\n",
        "  return x_vals,num_of_iteration"
      ],
      "metadata": {
        "id": "S9AoDokPycxf"
      },
      "execution_count": 4,
      "outputs": []
    },
    {
      "cell_type": "code",
      "source": [
        "def Newton_method(F,borders):\n",
        "\n",
        "  amount_of_roots=get_root_number(F,borders)\n",
        "  intervals_with_roots=get_intervals_with_roots(F,borders)\n",
        "  if amount_of_roots!=len(intervals_with_roots):\n",
        "    print(\"Error\")\n",
        "    return 0\n",
        "  else:\n",
        "    print(\"Ok\")\n",
        "\n",
        "  k=0\n",
        "  x_vals=[]\n",
        "  n=0\n",
        "  num_of_iteration=[]\n",
        "  for interval in intervals_with_roots:\n",
        "    a=interval[0]\n",
        "    b=interval[1]\n",
        "\n",
        "    F_1_dif=sp.diff(F,x)\n",
        "    F_2_dif=sp.diff(F,x,x)\n",
        "    if F.subs(x,a)*F_2_dif.subs(x,a)>0:\n",
        "      k=1\n",
        "    elif F.subs(x,b)*F_2_dif.subs(x,b)>0:\n",
        "      k=2\n",
        "\n",
        "    x_prev=120.0\n",
        "\n",
        "    if k==1:\n",
        "      delta=100\n",
        "      x_cur=a\n",
        "      while abs(x_cur-x_prev)>0.0001:\n",
        "        x_prev=x_cur\n",
        "        x_cur=x_cur-(F.subs(x,x_cur)/F_1_dif.subs(x,x_cur))\n",
        "        delta=abs(x_cur-x_prev)\n",
        "        n+=1\n",
        "    elif k==2:\n",
        "      delta=100\n",
        "      x_cur=b\n",
        "      while delta>0.0001:\n",
        "        x_prev=x_cur\n",
        "        x_cur=x_cur-(F.subs(x,x_cur)/F_1_dif.subs(x,x_cur))\n",
        "        delta=abs(x_cur-x_prev)\n",
        "        n+=1\n",
        "    x_vals.append(round(x_cur,4))\n",
        "    num_of_iteration.append(n)\n",
        "  return x_vals,num_of_iteration"
      ],
      "metadata": {
        "id": "QuHvdJBFyfEq"
      },
      "execution_count": 5,
      "outputs": []
    },
    {
      "cell_type": "code",
      "source": [
        "def half_division_method(F,borders):\n",
        "\n",
        "  amount_of_roots=get_root_number(F,borders)\n",
        "  intervals_with_roots=get_intervals_with_roots(F,borders)\n",
        "  if amount_of_roots!=len(intervals_with_roots):\n",
        "    print(\"Error\")\n",
        "    return 0\n",
        "  else:\n",
        "    print(\"Ok\")\n",
        "  x_cur=0\n",
        "  k=0\n",
        "  x_vals=[]\n",
        "  n=0\n",
        "  num_of_iteration=[]\n",
        "  for interval in intervals_with_roots:\n",
        "    delta=100\n",
        "    x_prev=100\n",
        "    a=interval[0]\n",
        "    b=interval[1]\n",
        "    while delta>0.0001:\n",
        "      x_prev=x_cur\n",
        "      x_cur=(a+b)/2\n",
        "      f=F.subs(x,x_cur)\n",
        "      if f*F.subs(x,a)<0:\n",
        "        b=x_cur\n",
        "      else:\n",
        "        a=x_cur\n",
        "      delta=abs(x_cur-x_prev) \n",
        "      n+=1\n",
        "\n",
        "    num_of_iteration.append(n)\n",
        "    x_vals.append(round(x_cur,4))\n",
        "\n",
        "  return x_vals,num_of_iteration"
      ],
      "metadata": {
        "id": "Nxs_p3kbygVj"
      },
      "execution_count": 6,
      "outputs": []
    },
    {
      "cell_type": "code",
      "source": [
        "x = sp.symbols('x')\n",
        "\n",
        "a = -13.3667\n",
        "b = 39.8645\n",
        "c = -20.6282\n",
        "\n",
        "borders=[-10,10]\n",
        "F=x**3+a*x**2+b*x+c"
      ],
      "metadata": {
        "id": "6ZyYqHMgyjYQ"
      },
      "execution_count": 15,
      "outputs": []
    },
    {
      "cell_type": "code",
      "source": [
        "def print_answ(x_vals,n,method_name):\n",
        "  print(f\"Method {method_name}\")\n",
        "  print(f\"Num of iteration = {n[0]}\")\n",
        "  print(f\"x = {x_vals[0]}\")\n",
        "  # for i,x_val in enumerate(x_vals):\n",
        "  #   print(f\"x{i} = {x_val}}\")\n",
        "  print()"
      ],
      "metadata": {
        "id": "DhHM8cudzdSc"
      },
      "execution_count": 13,
      "outputs": []
    },
    {
      "cell_type": "code",
      "source": [
        "def run(F,borders):\n",
        "  number_of_roots=get_root_number(F,borders)\n",
        "  print(f\"{number_of_roots} roots on the segment from {borders[0]} to {borders[1]} \")\n",
        "  x_val_1,n1=chord_method(F,borders)\n",
        "  x_val_2,n2=Newton_method(F,borders)\n",
        "  x_val_3,n3=half_division_method(F,borders)\n",
        "\n",
        "  print_answ(x_val_1,n1,\"chord_method\")\n",
        "  print_answ(x_val_2,n2,\"Newton_method\")\n",
        "  print_answ(x_val_3,n3,\"half_division_method\")"
      ],
      "metadata": {
        "id": "nrQTZz6Cyi2m"
      },
      "execution_count": 14,
      "outputs": []
    },
    {
      "cell_type": "code",
      "source": [
        "run(F,borders)"
      ],
      "metadata": {
        "colab": {
          "base_uri": "https://localhost:8080/"
        },
        "id": "7lLUJ2Vi1wL4",
        "outputId": "1ed4ad20-6ee6-4968-8e29-858d33e29a47"
      },
      "execution_count": 16,
      "outputs": [
        {
          "output_type": "stream",
          "name": "stdout",
          "text": [
            "3 roots on the segment from -10 to 10 \n",
            "Ok\n",
            "Ok\n",
            "Ok\n",
            "Method chord_method\n",
            "Num of iteration = 3\n",
            "x = 0.6538\n",
            "\n",
            "Method Newton_method\n",
            "Num of iteration = 3\n",
            "x = 0.6538\n",
            "\n",
            "Method half_division_method\n",
            "Num of iteration = 10\n",
            "x = 0.6538\n",
            "\n"
          ]
        }
      ]
    }
  ]
}