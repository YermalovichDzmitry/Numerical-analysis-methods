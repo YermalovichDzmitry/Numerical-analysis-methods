{
  "nbformat": 4,
  "nbformat_minor": 0,
  "metadata": {
    "colab": {
      "name": "MyLab10",
      "provenance": [],
      "collapsed_sections": [],
      "toc_visible": true
    },
    "kernelspec": {
      "name": "python3",
      "display_name": "Python 3"
    },
    "language_info": {
      "name": "python"
    }
  },
  "cells": [
    {
      "cell_type": "code",
      "execution_count": 1,
      "metadata": {
        "id": "S63NXrJju3L0"
      },
      "outputs": [],
      "source": [
        "import numpy as np\n",
        "import sympy as sp\n",
        "import copy\n",
        "import matplotlib.pyplot as plt\n",
        "import math\n",
        "from sympy.solvers import solve"
      ]
    },
    {
      "cell_type": "code",
      "source": [
        "x = sp.symbols('x')\n",
        "y = sp.symbols('y')"
      ],
      "metadata": {
        "id": "xpUZ82e5vbEF"
      },
      "execution_count": 2,
      "outputs": []
    },
    {
      "cell_type": "code",
      "source": [
        "m, a = 1.5, 0.9\n",
        "eq=a*(1-y**2)/((1+m)*x**2 + y**2 + 1)"
      ],
      "metadata": {
        "id": "rhK-11TLveyv"
      },
      "execution_count": 70,
      "outputs": []
    },
    {
      "cell_type": "code",
      "source": [
        ""
      ],
      "metadata": {
        "id": "Ti2tfFrWC6kk"
      },
      "execution_count": null,
      "outputs": []
    },
    {
      "cell_type": "code",
      "source": [
        "eq=-y\n",
        "eq"
      ],
      "metadata": {
        "id": "CDhTD-ZflZVs",
        "colab": {
          "base_uri": "https://localhost:8080/",
          "height": 38
        },
        "outputId": "74c546e7-5574-4fe7-ec5f-fecfa203c10d"
      },
      "execution_count": 8,
      "outputs": [
        {
          "output_type": "execute_result",
          "data": {
            "text/plain": [
              "-y"
            ],
            "text/latex": "$\\displaystyle - y$"
          },
          "metadata": {},
          "execution_count": 8
        }
      ]
    },
    {
      "cell_type": "markdown",
      "source": [
        "# Реализация"
      ],
      "metadata": {
        "id": "VXJ4B2oBCa0r"
      }
    },
    {
      "cell_type": "code",
      "source": [
        "def Eyler_gen(eq, y_0):\n",
        "    acc=0.001\n",
        "    # h = (1 - 0) / 10\n",
        "    h=0.00078125\n",
        "    x_vals = np.arange(0, 1+0.000000001, h)\n",
        "    y_vals=[y_0,]\n",
        "    for i in range(len(x_vals)-1):\n",
        "        y_vals.append(y_vals[i]+h*eq.subs([(x,x_vals[i]),(y,y_vals[i])]))\n",
        "\n",
        "    return x_vals,y_vals,h"
      ],
      "metadata": {
        "id": "xrcvXzgzFFza"
      },
      "execution_count": 98,
      "outputs": []
    },
    {
      "cell_type": "code",
      "source": [
        "x_vals,y_vals,h=Eyler_gen(eq,0)"
      ],
      "metadata": {
        "id": "4QA0sqbMx7ZL"
      },
      "execution_count": 99,
      "outputs": []
    },
    {
      "cell_type": "code",
      "source": [
        "h,1/h"
      ],
      "metadata": {
        "colab": {
          "base_uri": "https://localhost:8080/"
        },
        "id": "0VviC3gZ2QgP",
        "outputId": "8d3b46d2-ecdd-45b7-863c-d7533cfe1c28"
      },
      "execution_count": 72,
      "outputs": [
        {
          "output_type": "execute_result",
          "data": {
            "text/plain": [
              "(0.00078125, 1280.0)"
            ]
          },
          "metadata": {},
          "execution_count": 72
        }
      ]
    },
    {
      "cell_type": "code",
      "source": [
        "d={str(round(x_val,10)):y_val for x_val,y_val in zip(x_vals,y_vals)}"
      ],
      "metadata": {
        "id": "3hMEnKWfx8cD"
      },
      "execution_count": 100,
      "outputs": []
    },
    {
      "cell_type": "code",
      "source": [
        "def Adams_explicit(eq, y_0, d):\n",
        "    acc=0.001\n",
        "    h=0.1\n",
        "    x_vals = np.arange(0, 1+0.0000000001, h)\n",
        "    y_vals=[]\n",
        "    y_vals.append(y_0)\n",
        "    y_vals.append(d[str(h)])\n",
        "    # print(d[str(h)])\n",
        "    for i in range(len(x_vals)-2):\n",
        "        y_vals.append(y_vals[i+1]+h*((3/2)*eq.subs([(x,x_vals[i+1]),(y,y_vals[i+1])])-(1/2)*eq.subs([(x,x_vals[i]),(y,y_vals[i])])))\n",
        "    # print(f\"{len(x_vals)}  {len(y_vals)}\\n\\n\")\n",
        "\n",
        "    h_new=h\n",
        "    k=2\n",
        "    flag=1\n",
        "    iter=0\n",
        "    num=0\n",
        "    while(flag==1):\n",
        "        flag=0\n",
        "\n",
        "        h_new=h_new/2\n",
        "\n",
        "        y_vals_new=[]\n",
        "        y_vals_new.append(y_0)\n",
        "        y_vals_new.append(d[str(h_new)])\n",
        "\n",
        "        x_vals_news = np.arange(0, 1+0.00000000001, h_new)\n",
        "        for i in range(len(x_vals_news)-2):\n",
        "            y_vals_new.append(y_vals_new[i+1]+h_new*((3/2)*eq.subs([(x,x_vals_news[i+1]),(y,y_vals_new[i+1])])-(1/2)*eq.subs([(x,x_vals_news[i]),(y,y_vals_new[i])])))\n",
        "        # print(f\"{len(x_vals_news)}  {len(y_vals_new)}\\n\\n\")\n",
        "        vals=[]\n",
        "        # print(x_vals_news)\n",
        "        # print(y_vals_new)\n",
        "        for i in range(0,len(x_vals_news),2):\n",
        "            vals.append(y_vals_new[i])\n",
        "        falls=0\n",
        "\n",
        "        # if iter==0:\n",
        "        #     y_vals_prev=[]\n",
        "\n",
        "        if iter==0:\n",
        "            for i in range(len(vals)):\n",
        "                if(abs(vals[i]-y_vals[i])>acc):\n",
        "                    #print(abs(vals[i]-y_vals[i]))\n",
        "                    flag=1\n",
        "                    break\n",
        "                    # falls+=1\n",
        "                              \n",
        "        else:\n",
        "            # print(len(vals))\n",
        "            # print(len(y_vals_prev))\n",
        "            # print(iter)\n",
        "            for i in range(len(vals)):\n",
        "                if(abs(vals[i]-y_vals_prev[i])>acc):\n",
        "                    flag=1\n",
        "                    # print(abs(vals[i]-y_vals[i]))\n",
        "                    # print(iter)\n",
        "                    break\n",
        "        #             falls+=1\n",
        "        # coef=1-falls/len(vals)\n",
        "        # print(coef)\n",
        "        # if flag==1 and coef>0.5:\n",
        "        #     return x_vals_prev,y_vals_prev,h_new*2\n",
        "\n",
        "        if flag==1:\n",
        "            y_vals_prev = y_vals_new\n",
        "            h_prev = h_new\n",
        "            x_vals_prev = x_vals_news\n",
        "\n",
        "        if iter==0 and flag==0:\n",
        "            return x_vals,y_vals,h    \n",
        "        iter+=1    \n",
        "\n",
        "    return x_vals_prev,y_vals_prev,h_new*2"
      ],
      "metadata": {
        "id": "7W4fPPPOxQc5"
      },
      "execution_count": 81,
      "outputs": []
    },
    {
      "cell_type": "code",
      "source": [
        "x_vals_ada,y_vals_ada,h_ada=Adams_explicit(eq,0,d)"
      ],
      "metadata": {
        "id": "5KxrgWE31v-c"
      },
      "execution_count": null,
      "outputs": []
    },
    {
      "cell_type": "code",
      "source": [
        "h_ada,1/h_ada"
      ],
      "metadata": {
        "colab": {
          "base_uri": "https://localhost:8080/"
        },
        "id": "YrbNvXzqEz5g",
        "outputId": "ec935c8e-58e9-48de-bfc9-95adb8086bee"
      },
      "execution_count": null,
      "outputs": [
        {
          "output_type": "execute_result",
          "data": {
            "text/plain": [
              "(0.05, 20.0)"
            ]
          },
          "metadata": {},
          "execution_count": 175
        }
      ]
    },
    {
      "cell_type": "code",
      "source": [
        "for x_val,y_val in zip(x_vals_ada,y_vals_ada):\n",
        "    print(f\"{round(x_val,4)} {round(y_val,4)}\")"
      ],
      "metadata": {
        "id": "nim3A_SP14LF"
      },
      "execution_count": null,
      "outputs": []
    },
    {
      "cell_type": "code",
      "source": [
        "plt.Figure(figsize=(10,10))\n",
        "plt.plot(x_vals,y_vals,color=\"r\")\n",
        "plt.plot(x_vals_ada,y_vals_ada,color=\"b\")\n",
        "plt.show()"
      ],
      "metadata": {
        "colab": {
          "base_uri": "https://localhost:8080/",
          "height": 265
        },
        "id": "Rez8L42719sG",
        "outputId": "36f60ff9-19a8-4206-c5ab-de4910ef8da2"
      },
      "execution_count": null,
      "outputs": [
        {
          "output_type": "display_data",
          "data": {
            "text/plain": [
              "<Figure size 432x288 with 1 Axes>"
            ],
            "image/png": "[encoded data removed]"
          },
          "metadata": {
            "needs_background": "light"
          }
        }
      ]
    },
    {
      "cell_type": "code",
      "source": [
        ""
      ],
      "metadata": {
        "id": "ljy178ej5rn-"
      },
      "execution_count": null,
      "outputs": []
    },
    {
      "cell_type": "code",
      "source": [
        ""
      ],
      "metadata": {
        "id": "4EfoLQXf5rpw"
      },
      "execution_count": null,
      "outputs": []
    },
    {
      "cell_type": "code",
      "source": [
        "def Adams_implicit(eq, y_0, d):\n",
        "    acc=0.001\n",
        "    h=0.1\n",
        "    x_vals = np.arange(0, 1+0.0000000001, h)\n",
        "    y_vals=[]\n",
        "    y_vals.append(y_0)\n",
        "    for i in range(len(x_vals)-1):\n",
        "        y_vals.append(solve(y_vals[i]+h*(0.5*eq.subs([(x,x_vals[i+1])])+0.5*eq.subs([(x,x_vals[i]),(y,y_vals[i])]))-y,y)[0])\n",
        "\n",
        "    h_new=h\n",
        "    k=2\n",
        "    flag=1\n",
        "    iter=0\n",
        "    num=0\n",
        "    while(flag==1):\n",
        "        flag=0\n",
        "\n",
        "        h_new=h_new/2\n",
        "\n",
        "        y_vals_new=[]\n",
        "        y_vals_new.append(y_0)\n",
        "        # print('Hello')\n",
        "        x_vals_news = np.arange(0, 1+0.00000000001, h_new)\n",
        "        for i in range(len(x_vals_news)-1):\n",
        "            y_vals_new.append(solve(y_vals_new[i]+h_new*(0.5*eq.subs([(x,x_vals_news[i+1])])+0.5*eq.subs([(x,x_vals_news[i]),(y,y_vals_new[i])]))-y,y)[0])        # print(f\"{len(x_vals_news)}  {len(y_vals_new)}\\n\\n\")\n",
        "        vals=[]\n",
        "        # print('Hello')\n",
        "        # print(x_vals_news)\n",
        "        # print(y_vals_new)\n",
        "        for i in range(0,len(x_vals_news),2):\n",
        "            vals.append(y_vals_new[i])\n",
        "        falls=0\n",
        "        # print('Hello')\n",
        "        # if iter==0:\n",
        "        #     y_vals_prev=[]\n",
        "\n",
        "        if iter==0:\n",
        "            for i in range(len(vals)):\n",
        "                if(abs(vals[i]-y_vals[i])>acc):\n",
        "                    #print(abs(vals[i]-y_vals[i]))\n",
        "                    flag=1\n",
        "                    break\n",
        "                    # falls+=1\n",
        "                              \n",
        "        else:\n",
        "            # print(len(vals))\n",
        "            # print(len(y_vals_prev))\n",
        "            # print(iter)\n",
        "            for i in range(len(vals)):\n",
        "                if(abs(vals[i]-y_vals_prev[i])>acc):\n",
        "                    flag=1\n",
        "                    # print(abs(vals[i]-y_vals[i]))\n",
        "                    # print(iter)\n",
        "                    break\n",
        "        #             falls+=1\n",
        "        # coef=1-falls/len(vals)\n",
        "        # print(coef)\n",
        "        # if flag==1 and coef>0.5:\n",
        "        #     return x_vals_prev,y_vals_prev,h_new*2\n",
        "        # print('Hello')\n",
        "        if flag==1:\n",
        "            y_vals_prev = y_vals_new\n",
        "            h_prev = h_new\n",
        "            x_vals_prev = x_vals_news\n",
        "\n",
        "        if iter==0 and flag==0:\n",
        "            return x_vals,y_vals,h    \n",
        "        iter+=1    \n",
        "\n",
        "    return x_vals_prev,y_vals_prev,h_new*2"
      ],
      "metadata": {
        "id": "gbfCWt0RPoi0"
      },
      "execution_count": 82,
      "outputs": []
    },
    {
      "cell_type": "code",
      "source": [
        "d['0.1']"
      ],
      "metadata": {
        "colab": {
          "base_uri": "https://localhost:8080/",
          "height": 37
        },
        "id": "n98BlDZ_XEmE",
        "outputId": "cd2adb06-d7ef-4291-8340-7d71ef39830c"
      },
      "execution_count": null,
      "outputs": [
        {
          "output_type": "execute_result",
          "data": {
            "text/plain": [
              "0.0888092528616345"
            ],
            "text/latex": "$\\displaystyle 0.0888092528616345$"
          },
          "metadata": {},
          "execution_count": 214
        }
      ]
    },
    {
      "cell_type": "code",
      "source": [
        "eq.subs([(x,0.1)])"
      ],
      "metadata": {
        "colab": {
          "base_uri": "https://localhost:8080/",
          "height": 57
        },
        "id": "ljCrEeCMb29l",
        "outputId": "1adfa1cf-64be-421f-f8b9-fde4d527612a"
      },
      "execution_count": null,
      "outputs": [
        {
          "output_type": "execute_result",
          "data": {
            "text/plain": [
              "(0.9 - 0.9*y**2)/(y**2 + 1.025)"
            ],
            "text/latex": "$\\displaystyle \\frac{0.9 - 0.9 y^{2}}{y^{2} + 1.025}$"
          },
          "metadata": {},
          "execution_count": 221
        }
      ]
    },
    {
      "cell_type": "code",
      "source": [
        "eq.subs([(x,0),(y,0)])"
      ],
      "metadata": {
        "colab": {
          "base_uri": "https://localhost:8080/",
          "height": 37
        },
        "id": "sM_GATT2b4MB",
        "outputId": "3f6a591f-7ccf-4be1-9979-4c3b3f10030b"
      },
      "execution_count": null,
      "outputs": [
        {
          "output_type": "execute_result",
          "data": {
            "text/plain": [
              "0.900000000000000"
            ],
            "text/latex": "$\\displaystyle 0.9$"
          },
          "metadata": {},
          "execution_count": 224
        }
      ]
    },
    {
      "cell_type": "code",
      "source": [
        "solve(x-2, x)"
      ],
      "metadata": {
        "colab": {
          "base_uri": "https://localhost:8080/"
        },
        "id": "K-8K2_-8csr6",
        "outputId": "5ae6e8bf-063d-4d1b-ccba-54ab6b7363c7"
      },
      "execution_count": null,
      "outputs": [
        {
          "output_type": "execute_result",
          "data": {
            "text/plain": [
              "[2]"
            ]
          },
          "metadata": {},
          "execution_count": 236
        }
      ]
    },
    {
      "cell_type": "code",
      "source": [
        "solve(0+0.1*(0.5*eq.subs([(x,0.1)])+0.5*eq.subs([(x,0),(y,0)]))-y,y)"
      ],
      "metadata": {
        "colab": {
          "base_uri": "https://localhost:8080/"
        },
        "id": "-zVWsKh3XVkw",
        "outputId": "900238c2-80bd-46e1-a64b-6d1dde17d3b3"
      },
      "execution_count": null,
      "outputs": [
        {
          "output_type": "execute_result",
          "data": {
            "text/plain": [
              "[0.0882323090117922,\n",
              " -0.0441161545058961 - 1.01530227285531*I,\n",
              " -0.0441161545058961 + 1.01530227285531*I]"
            ]
          },
          "metadata": {},
          "execution_count": 238
        }
      ]
    },
    {
      "cell_type": "code",
      "source": [
        "x_vals_ada,y_vals_ada,h_ada=Adams_implicit(eq,0,d)"
      ],
      "metadata": {
        "id": "4s-93nFPQDxz"
      },
      "execution_count": null,
      "outputs": []
    },
    {
      "cell_type": "code",
      "source": [
        "h_ada,1/h_ada"
      ],
      "metadata": {
        "colab": {
          "base_uri": "https://localhost:8080/"
        },
        "outputId": "49acae46-14f3-4642-9733-7d939c6ae84d",
        "id": "zZEQGM_BQDxz"
      },
      "execution_count": null,
      "outputs": [
        {
          "output_type": "execute_result",
          "data": {
            "text/plain": [
              "(0.1, 10.0)"
            ]
          },
          "metadata": {},
          "execution_count": 281
        }
      ]
    },
    {
      "cell_type": "code",
      "source": [
        "for x_val,y_val in zip(x_vals_ada,y_vals_ada):\n",
        "    print(f\"{round(x_val,4)} {round(y_val,4)}\")"
      ],
      "metadata": {
        "colab": {
          "base_uri": "https://localhost:8080/"
        },
        "id": "YoQnWoKJQDx2",
        "outputId": "5ea8ad6b-6946-482f-fea5-246ceaf46bf6"
      },
      "execution_count": null,
      "outputs": [
        {
          "output_type": "stream",
          "name": "stdout",
          "text": [
            "0.0 0\n",
            "0.1 0.0882\n",
            "0.2 0.1702\n",
            "0.3 0.2419\n",
            "0.4 0.3023\n",
            "0.5 0.3523\n",
            "0.6 0.3933\n",
            "0.7 0.4271\n",
            "0.8 0.4551\n",
            "0.9 0.4785\n",
            "1.0 0.4982\n"
          ]
        }
      ]
    },
    {
      "cell_type": "code",
      "source": [
        "plt.Figure(figsize=(10,10))\n",
        "plt.plot(x_vals,y_vals,color=\"r\")\n",
        "plt.plot(x_vals_ada,y_vals_ada,color=\"b\")\n",
        "plt.show()"
      ],
      "metadata": {
        "colab": {
          "base_uri": "https://localhost:8080/",
          "height": 265
        },
        "outputId": "72bbfa50-a9fe-4223-d329-02c946fa52ed",
        "id": "UwlVlabzQDx2"
      },
      "execution_count": null,
      "outputs": [
        {
          "output_type": "display_data",
          "data": {
            "text/plain": [
              "<Figure size 432x288 with 1 Axes>"
            ],
            "image/png": "[encoded data removed]"
          },
          "metadata": {
            "needs_background": "light"
          }
        }
      ]
    },
    {
      "cell_type": "code",
      "source": [
        ""
      ],
      "metadata": {
        "id": "68NDxvf9CfxP"
      },
      "execution_count": null,
      "outputs": []
    },
    {
      "cell_type": "code",
      "source": [
        "def Adams_implicit_k1(eq, y_0, d):\n",
        "    acc=0.01\n",
        "    h=0.1\n",
        "    x_vals = np.arange(0, 1+0.0000000001, h)\n",
        "    y_vals=[]\n",
        "    y_vals.append(y_0)\n",
        "    for i in range(len(x_vals)-1):\n",
        "        y_vals.append(solve(y_vals[i]+h*(eq.subs([(x,x_vals[i+1])]))-y,y)[0])\n",
        "\n",
        "    h_new=h\n",
        "    k=2\n",
        "    flag=1\n",
        "    iter=0\n",
        "    num=0\n",
        "    while(flag==1):\n",
        "        flag=0\n",
        "\n",
        "        h_new=h_new/2\n",
        "\n",
        "        y_vals_new=[]\n",
        "        y_vals_new.append(y_0)\n",
        "        # print('Hello')\n",
        "        x_vals_news = np.arange(0, 1+0.00000000001, h_new)\n",
        "        for i in range(len(x_vals_news)-1):\n",
        "            y_vals_new.append(solve(y_vals_new[i]+h_new*(eq.subs([(x,x_vals_news[i+1])]))-y,y)[0])        # print(f\"{len(x_vals_news)}  {len(y_vals_new)}\\n\\n\")\n",
        "        vals=[]\n",
        "        # print('Hello')\n",
        "        # print(x_vals_news)\n",
        "        # print(y_vals_new)\n",
        "        for i in range(0,len(x_vals_news),2):\n",
        "            vals.append(y_vals_new[i])\n",
        "        falls=0\n",
        "        # print('Hello')\n",
        "        # if iter==0:\n",
        "        #     y_vals_prev=[]\n",
        "\n",
        "        if iter==0:\n",
        "            for i in range(len(vals)):\n",
        "                if(abs(vals[i]-y_vals[i])>acc):\n",
        "                    #print(abs(vals[i]-y_vals[i]))\n",
        "                    flag=1\n",
        "                    break\n",
        "                    # falls+=1\n",
        "                              \n",
        "        else:\n",
        "            # print(len(vals))\n",
        "            # print(len(y_vals_prev))\n",
        "            # print(iter)\n",
        "            for i in range(len(vals)):\n",
        "                if(abs(vals[i]-y_vals_prev[i])>acc):\n",
        "                    flag=1\n",
        "                    # print(abs(vals[i]-y_vals[i]))\n",
        "                    # print(iter)\n",
        "                    break\n",
        "        #             falls+=1\n",
        "        # coef=1-falls/len(vals)\n",
        "        # print(coef)\n",
        "        # if flag==1 and coef>0.5:\n",
        "        #     return x_vals_prev,y_vals_prev,h_new*2\n",
        "        # print('Hello')\n",
        "        if flag==1:\n",
        "            y_vals_prev = y_vals_new\n",
        "            h_prev = h_new\n",
        "            x_vals_prev = x_vals_news\n",
        "\n",
        "        if iter==0 and flag==0:\n",
        "            return x_vals,y_vals,h    \n",
        "        iter+=1    \n",
        "\n",
        "    return x_vals_prev,y_vals_prev,h_new*2"
      ],
      "metadata": {
        "id": "ZCNYskY_G_fN"
      },
      "execution_count": 112,
      "outputs": []
    },
    {
      "cell_type": "code",
      "source": [
        ""
      ],
      "metadata": {
        "id": "Fg1by7oUCfz0"
      },
      "execution_count": null,
      "outputs": []
    },
    {
      "cell_type": "code",
      "source": [
        "def Adams_implicit_k3(eq, y_0, d):\n",
        "    acc=0.001\n",
        "    h=0.1\n",
        "    x_vals = np.arange(0, 1+0.0000000001, h)\n",
        "    y_vals=[]\n",
        "    y_vals.append(y_0)\n",
        "    y_vals.append(d[str(h)])\n",
        "    for i in range(len(x_vals)-2):\n",
        "        y_vals.append(solve(y_vals[i+1]+h*((5/12)*eq.subs([(x,x_vals[i+2])])+(8/12)*eq.subs([(x,x_vals[i+1]),(y,y_vals[i+1])])-(1/12)*eq.subs([(x,x_vals[i]),(y,y_vals[i])]))-y,y)[0])\n",
        "\n",
        "    h_new=h\n",
        "    k=2\n",
        "    flag=1\n",
        "    iter=0\n",
        "    num=0\n",
        "    while(flag==1):\n",
        "        flag=0\n",
        "\n",
        "        h_new=h_new/2\n",
        "\n",
        "        y_vals_new=[]\n",
        "        y_vals_new.append(y_0)\n",
        "        y_vals_new.append(d[str(h_new)])\n",
        "        # print('Hello')\n",
        "        x_vals_news = np.arange(0, 1+0.00000000001, h_new)\n",
        "        for i in range(len(x_vals_news)-2):\n",
        "            y_vals_new.append(solve(y_vals_new[i+1]+h_new*((5/12)*eq.subs([(x,x_vals_news[i+2])])+(8/12)*eq.subs([(x,x_vals_news[i+1]),(y,y_vals_new[i+1])])-(1/12)*eq.subs([(x,x_vals_news[i]),(y,y_vals_new[i])]))-y,y)[0])\n",
        "        vals=[]\n",
        "        # print('Hello')\n",
        "        # print(x_vals_news)\n",
        "        # print(y_vals_new)\n",
        "        for i in range(0,len(x_vals_news),2):\n",
        "            vals.append(y_vals_new[i])\n",
        "        falls=0\n",
        "        # print('Hello')\n",
        "        # if iter==0:\n",
        "        #     y_vals_prev=[]\n",
        "\n",
        "        if iter==0:\n",
        "            for i in range(len(vals)):\n",
        "                if(abs(vals[i]-y_vals[i])>acc):\n",
        "                    #print(abs(vals[i]-y_vals[i]))\n",
        "                    flag=1\n",
        "                    break\n",
        "                    # falls+=1\n",
        "                              \n",
        "        else:\n",
        "            # print(len(vals))\n",
        "            # print(len(y_vals_prev))\n",
        "            # print(iter)\n",
        "            for i in range(len(vals)):\n",
        "                if(abs(vals[i]-y_vals_prev[i])>acc):\n",
        "                    flag=1\n",
        "                    # print(abs(vals[i]-y_vals[i]))\n",
        "                    # print(iter)\n",
        "                    break\n",
        "        #             falls+=1\n",
        "        # coef=1-falls/len(vals)\n",
        "        # print(coef)\n",
        "        # if flag==1 and coef>0.5:\n",
        "        #     return x_vals_prev,y_vals_prev,h_new*2\n",
        "        # print('Hello')\n",
        "        if flag==1:\n",
        "            y_vals_prev = y_vals_new\n",
        "            h_prev = h_new\n",
        "            x_vals_prev = x_vals_news\n",
        "\n",
        "        if iter==0 and flag==0:\n",
        "            return x_vals,y_vals,h    \n",
        "        iter+=1    \n",
        "\n",
        "    return x_vals_prev,y_vals_prev,h_new*2"
      ],
      "metadata": {
        "id": "NULBDDUSIC4c"
      },
      "execution_count": 84,
      "outputs": []
    },
    {
      "cell_type": "code",
      "source": [
        ""
      ],
      "metadata": {
        "id": "xvpSOdFKIC7y"
      },
      "execution_count": null,
      "outputs": []
    },
    {
      "cell_type": "markdown",
      "source": [
        "# Тестовый пример"
      ],
      "metadata": {
        "id": "XXzogsGNCgNB"
      }
    },
    {
      "cell_type": "code",
      "source": [
        "h=0.1\n",
        "x_vals_sol = np.arange(0, 1+0.000001, h)\n",
        "y_vals_sol=[np.exp(-i) for i in x_vals_sol]"
      ],
      "metadata": {
        "id": "cRHL6LV9mMY7"
      },
      "execution_count": 3,
      "outputs": []
    },
    {
      "cell_type": "code",
      "source": [
        "for x_val,y_val in zip(x_vals_sol,y_vals_sol):\n",
        "    print(f\"{round(x_val,4)} {round(y_val,4)}\")"
      ],
      "metadata": {
        "colab": {
          "base_uri": "https://localhost:8080/"
        },
        "id": "Zg6Oq2wvmy7g",
        "outputId": "5a628a98-fc29-4465-d15b-cab1024df6ba"
      },
      "execution_count": 4,
      "outputs": [
        {
          "output_type": "stream",
          "name": "stdout",
          "text": [
            "0.0 1.0\n",
            "0.1 0.9048\n",
            "0.2 0.8187\n",
            "0.3 0.7408\n",
            "0.4 0.6703\n",
            "0.5 0.6065\n",
            "0.6 0.5488\n",
            "0.7 0.4966\n",
            "0.8 0.4493\n",
            "0.9 0.4066\n",
            "1.0 0.3679\n"
          ]
        }
      ]
    },
    {
      "cell_type": "code",
      "source": [
        "eq"
      ],
      "metadata": {
        "colab": {
          "base_uri": "https://localhost:8080/",
          "height": 38
        },
        "id": "ctbpisc4CuA8",
        "outputId": "4df50ef2-f619-4781-dcd5-8281960c3b5f"
      },
      "execution_count": 15,
      "outputs": [
        {
          "output_type": "execute_result",
          "data": {
            "text/plain": [
              "-y"
            ],
            "text/latex": "$\\displaystyle - y$"
          },
          "metadata": {},
          "execution_count": 15
        }
      ]
    },
    {
      "cell_type": "code",
      "source": [
        "x_vals_ada_explicit,y_vals_ada_explicit,h_ada_explicit=Adams_explicit(eq,1,d)"
      ],
      "metadata": {
        "id": "wiaJw2izC08-"
      },
      "execution_count": 38,
      "outputs": []
    },
    {
      "cell_type": "code",
      "source": [
        "h_ada_explicit,1/h_ada_explicit"
      ],
      "metadata": {
        "colab": {
          "base_uri": "https://localhost:8080/"
        },
        "outputId": "a526cc19-6f84-45ee-d16a-b37d32c70de9",
        "id": "o_-MnZr1C08-"
      },
      "execution_count": 39,
      "outputs": [
        {
          "output_type": "execute_result",
          "data": {
            "text/plain": [
              "(0.1, 10.0)"
            ]
          },
          "metadata": {},
          "execution_count": 39
        }
      ]
    },
    {
      "cell_type": "code",
      "source": [
        "for x_val,y_val in zip(x_vals_ada_explicit,y_vals_ada_explicit):\n",
        "    print(f\"{round(x_val,4)} {round(y_val,4)}\")"
      ],
      "metadata": {
        "colab": {
          "base_uri": "https://localhost:8080/"
        },
        "id": "_HvFfwtaC08-",
        "outputId": "f2ed36d8-da5f-4dcf-e894-cf9a688714fe"
      },
      "execution_count": 40,
      "outputs": [
        {
          "output_type": "stream",
          "name": "stdout",
          "text": [
            "0.0 1\n",
            "0.1 0.9048\n",
            "0.2 0.8191\n",
            "0.3 0.7415\n",
            "0.4 0.6712\n",
            "0.5 0.6076\n",
            "0.6 0.5500\n",
            "0.7 0.4979\n",
            "0.8 0.4507\n",
            "0.9 0.4080\n",
            "1.0 0.3693\n"
          ]
        }
      ]
    },
    {
      "cell_type": "code",
      "source": [
        ""
      ],
      "metadata": {
        "id": "p_oU3buGE3vC"
      },
      "execution_count": null,
      "outputs": []
    },
    {
      "cell_type": "code",
      "source": [
        "x_vals_ada_implicit,y_vals_ada_implicit,h_ada_implicit=Adams_implicit(eq,1,d)"
      ],
      "metadata": {
        "id": "TY5eBf9IC08-"
      },
      "execution_count": 43,
      "outputs": []
    },
    {
      "cell_type": "code",
      "source": [
        "h_ada_implicit,1/h_ada_implicit"
      ],
      "metadata": {
        "colab": {
          "base_uri": "https://localhost:8080/"
        },
        "outputId": "32098e08-a403-4d26-8935-4d21f2c3f726",
        "id": "zjK1SGMTE3Db"
      },
      "execution_count": 45,
      "outputs": [
        {
          "output_type": "execute_result",
          "data": {
            "text/plain": [
              "(0.1, 10.0)"
            ]
          },
          "metadata": {},
          "execution_count": 45
        }
      ]
    },
    {
      "cell_type": "code",
      "source": [
        "for x_val,y_val in zip(x_vals_ada_implicit,y_vals_ada_implicit):\n",
        "    print(f\"{round(x_val,4)} {round(y_val,4)}\")"
      ],
      "metadata": {
        "colab": {
          "base_uri": "https://localhost:8080/"
        },
        "outputId": "c9b5d85f-9ff5-4276-85a9-d34ff276f53e",
        "id": "GXKFHCuxE3Dc"
      },
      "execution_count": 46,
      "outputs": [
        {
          "output_type": "stream",
          "name": "stdout",
          "text": [
            "0.0 1\n",
            "0.1 0.9048\n",
            "0.2 0.8186\n",
            "0.3 0.7406\n",
            "0.4 0.6701\n",
            "0.5 0.6063\n",
            "0.6 0.5485\n",
            "0.7 0.4963\n",
            "0.8 0.4490\n",
            "0.9 0.4063\n",
            "1.0 0.3676\n"
          ]
        }
      ]
    },
    {
      "cell_type": "code",
      "source": [
        ""
      ],
      "metadata": {
        "id": "54yjdo3rHnVY"
      },
      "execution_count": null,
      "outputs": []
    },
    {
      "cell_type": "code",
      "source": [
        ""
      ],
      "metadata": {
        "id": "ibXzRRSDHnYA"
      },
      "execution_count": null,
      "outputs": []
    },
    {
      "cell_type": "code",
      "source": [
        "x_vals_ada_implicit_k1,y_vals_ada_implicit_k1,h_ada_implicit_k1=Adams_implicit_k1(eq,1,d)"
      ],
      "metadata": {
        "id": "vFonqljfHnet"
      },
      "execution_count": 53,
      "outputs": []
    },
    {
      "cell_type": "code",
      "source": [
        "h_ada_implicit_k1,1/h_ada_implicit_k1"
      ],
      "metadata": {
        "colab": {
          "base_uri": "https://localhost:8080/"
        },
        "outputId": "8823e9f7-52eb-49d6-fd38-a5a95db5e0f2",
        "id": "USRxdDOpHneu"
      },
      "execution_count": 54,
      "outputs": [
        {
          "output_type": "execute_result",
          "data": {
            "text/plain": [
              "(0.1, 10.0)"
            ]
          },
          "metadata": {},
          "execution_count": 54
        }
      ]
    },
    {
      "cell_type": "code",
      "source": [
        "for x_val,y_val in zip(x_vals_ada_implicit_k1,y_vals_ada_implicit_k1):\n",
        "    print(f\"{round(x_val,4)} {round(y_val,4)}\")"
      ],
      "metadata": {
        "colab": {
          "base_uri": "https://localhost:8080/"
        },
        "outputId": "04154e56-f4f4-4e78-860a-ac9aa5bbae2e",
        "id": "AjZ2y2SpHneu"
      },
      "execution_count": 55,
      "outputs": [
        {
          "output_type": "stream",
          "name": "stdout",
          "text": [
            "0.0 1\n",
            "0.1 0.9091\n",
            "0.2 0.8264\n",
            "0.3 0.7513\n",
            "0.4 0.6830\n",
            "0.5 0.6209\n",
            "0.6 0.5645\n",
            "0.7 0.5132\n",
            "0.8 0.4665\n",
            "0.9 0.4241\n",
            "1.0 0.3855\n"
          ]
        }
      ]
    },
    {
      "cell_type": "code",
      "source": [
        ""
      ],
      "metadata": {
        "id": "z_G2ArzuJ1ap"
      },
      "execution_count": null,
      "outputs": []
    },
    {
      "cell_type": "code",
      "source": [
        ""
      ],
      "metadata": {
        "id": "RfdoFXNqJ1eM"
      },
      "execution_count": null,
      "outputs": []
    },
    {
      "cell_type": "code",
      "source": [
        "x_vals_ada_implicit_k3,y_vals_ada_implicit_k3,h_ada_implicit_k3=Adams_implicit_k3(eq,1,d)"
      ],
      "metadata": {
        "id": "Q166c9WEJ1mT"
      },
      "execution_count": 64,
      "outputs": []
    },
    {
      "cell_type": "code",
      "source": [
        "h_ada_implicit_k3,1/h_ada_implicit_k3"
      ],
      "metadata": {
        "colab": {
          "base_uri": "https://localhost:8080/"
        },
        "outputId": "60fcc6b5-0f0b-42b7-f777-60a375b85c30",
        "id": "OIddJPrHJ1mU"
      },
      "execution_count": 67,
      "outputs": [
        {
          "output_type": "execute_result",
          "data": {
            "text/plain": [
              "(0.1, 10.0)"
            ]
          },
          "metadata": {},
          "execution_count": 67
        }
      ]
    },
    {
      "cell_type": "code",
      "source": [
        "for x_val,y_val in zip(x_vals_ada_implicit_k3,y_vals_ada_implicit_k3):\n",
        "    print(f\"{round(x_val,4)} {round(y_val,4)}\")"
      ],
      "metadata": {
        "colab": {
          "base_uri": "https://localhost:8080/"
        },
        "outputId": "0b924f46-d417-4934-bfca-32d2a759249a",
        "id": "_DEKFq2cJ1mU"
      },
      "execution_count": 68,
      "outputs": [
        {
          "output_type": "stream",
          "name": "stdout",
          "text": [
            "0.0 1\n",
            "0.1 0.9048\n",
            "0.2 0.8187\n",
            "0.3 0.7408\n",
            "0.4 0.6703\n",
            "0.5 0.6065\n",
            "0.6 0.5488\n",
            "0.7 0.4966\n",
            "0.8 0.4493\n",
            "0.9 0.4066\n",
            "1.0 0.3679\n"
          ]
        }
      ]
    },
    {
      "cell_type": "code",
      "source": [
        ""
      ],
      "metadata": {
        "id": "hpy3lOICNBHM"
      },
      "execution_count": null,
      "outputs": []
    },
    {
      "cell_type": "code",
      "source": [
        "plt.Figure(figsize=(20,20))\n",
        "plt.plot(x_vals_sol,y_vals_sol,color=\"g\")\n",
        "plt.plot(x_vals_ada_explicit,y_vals_ada_explicit,color=\"y\")\n",
        "plt.plot(x_vals_ada_implicit,y_vals_ada_implicit,'go--',color=\"r\")\n",
        "plt.plot(x_vals_ada_implicit_k1,y_vals_ada_implicit_k1,\"rs\",color=\"b\")\n",
        "plt.plot(x_vals_ada_implicit_k3,y_vals_ada_implicit_k3,\"o\",color=\"orange\")\n",
        "plt.show()"
      ],
      "metadata": {
        "colab": {
          "base_uri": "https://localhost:8080/",
          "height": 265
        },
        "id": "Za5uQPtENAeF",
        "outputId": "7a8c2c25-0d70-4609-9486-54e4b915c889"
      },
      "execution_count": 69,
      "outputs": [
        {
          "output_type": "display_data",
          "data": {
            "text/plain": [
              "<Figure size 432x288 with 1 Axes>"
            ],
            "image/png": "[encoded data removed]"
          },
          "metadata": {
            "needs_background": "light"
          }
        }
      ]
    },
    {
      "cell_type": "code",
      "source": [
        ""
      ],
      "metadata": {
        "id": "NSeYUj_IO2DS"
      },
      "execution_count": null,
      "outputs": []
    },
    {
      "cell_type": "code",
      "source": [
        ""
      ],
      "metadata": {
        "id": "NRqV73HmO2Fi"
      },
      "execution_count": null,
      "outputs": []
    },
    {
      "cell_type": "markdown",
      "source": [
        "# Вариант 8"
      ],
      "metadata": {
        "id": "rRk5gIamO2cl"
      }
    },
    {
      "cell_type": "code",
      "source": [
        "eq"
      ],
      "metadata": {
        "colab": {
          "base_uri": "https://localhost:8080/",
          "height": 57
        },
        "id": "N_-cnV4GPrKl",
        "outputId": "c8675862-b2ef-4821-8cba-570b0128f7e3"
      },
      "execution_count": 101,
      "outputs": [
        {
          "output_type": "execute_result",
          "data": {
            "text/plain": [
              "(0.9 - 0.9*y**2)/(2.5*x**2 + y**2 + 1)"
            ],
            "text/latex": "$\\displaystyle \\frac{0.9 - 0.9 y^{2}}{2.5 x^{2} + y^{2} + 1}$"
          },
          "metadata": {},
          "execution_count": 101
        }
      ]
    },
    {
      "cell_type": "code",
      "source": [
        "x_vals_ada_explicit,y_vals_ada_explicit,h_ada_explicit=Adams_explicit(eq,0,d)"
      ],
      "metadata": {
        "id": "aCWA-i2xO_RL"
      },
      "execution_count": 102,
      "outputs": []
    },
    {
      "cell_type": "code",
      "source": [
        "h_ada_explicit,1/h_ada_explicit"
      ],
      "metadata": {
        "colab": {
          "base_uri": "https://localhost:8080/"
        },
        "outputId": "6d1ac8c2-14b6-4d63-a047-f978bcb86c26",
        "id": "RHL-s0pKO_RM"
      },
      "execution_count": 103,
      "outputs": [
        {
          "output_type": "execute_result",
          "data": {
            "text/plain": [
              "(0.05, 20.0)"
            ]
          },
          "metadata": {},
          "execution_count": 103
        }
      ]
    },
    {
      "cell_type": "code",
      "source": [
        "for x_val,y_val in zip(x_vals_ada_explicit,y_vals_ada_explicit):\n",
        "    print(f\"{round(x_val,4)} {round(y_val,4)}\")"
      ],
      "metadata": {
        "colab": {
          "base_uri": "https://localhost:8080/"
        },
        "outputId": "0079a0d9-c568-44b7-8e0f-8923bd3a3240",
        "id": "oIc-VmjyO_RM"
      },
      "execution_count": 104,
      "outputs": [
        {
          "output_type": "stream",
          "name": "stdout",
          "text": [
            "0.0 0\n",
            "0.05 0.0449\n",
            "0.1 0.0892\n",
            "0.15 0.1317\n",
            "0.2 0.1719\n",
            "0.25 0.2093\n",
            "0.3 0.2437\n",
            "0.35 0.2752\n",
            "0.4 0.3039\n",
            "0.45 0.3299\n",
            "0.5 0.3535\n",
            "0.55 0.3748\n",
            "0.6 0.3942\n",
            "0.65 0.4117\n",
            "0.7 0.4276\n",
            "0.75 0.4421\n",
            "0.8 0.4554\n",
            "0.85 0.4675\n",
            "0.9 0.4786\n",
            "0.95 0.4887\n",
            "1.0 0.4981\n"
          ]
        }
      ]
    },
    {
      "cell_type": "code",
      "source": [
        "for i in range(0,len(x_vals_ada_explicit),2):\n",
        "    print(f\"{round(x_vals_ada_explicit[i],4)} {round(y_vals_ada_explicit[i],4)}\")"
      ],
      "metadata": {
        "colab": {
          "base_uri": "https://localhost:8080/"
        },
        "id": "hJwy61fCVw2i",
        "outputId": "b3cc70dd-cd8f-4fd2-ebbd-db0a55d677a4"
      },
      "execution_count": 124,
      "outputs": [
        {
          "output_type": "stream",
          "name": "stdout",
          "text": [
            "0.0 0\n",
            "0.1 0.0892\n",
            "0.2 0.1719\n",
            "0.3 0.2437\n",
            "0.4 0.3039\n",
            "0.5 0.3535\n",
            "0.6 0.3942\n",
            "0.7 0.4276\n",
            "0.8 0.4554\n",
            "0.9 0.4786\n",
            "1.0 0.4981\n"
          ]
        }
      ]
    },
    {
      "cell_type": "code",
      "source": [
        ""
      ],
      "metadata": {
        "id": "GNow7YbRPBm1"
      },
      "execution_count": null,
      "outputs": []
    },
    {
      "cell_type": "code",
      "source": [
        ""
      ],
      "metadata": {
        "id": "Cj0GGpk5PAqg"
      },
      "execution_count": null,
      "outputs": []
    },
    {
      "cell_type": "code",
      "source": [
        "x_vals_ada_implicit,y_vals_ada_implicit,h_ada_implicit=Adams_implicit(eq,0,d)"
      ],
      "metadata": {
        "id": "mcS-Yhs3O_RM"
      },
      "execution_count": 105,
      "outputs": []
    },
    {
      "cell_type": "code",
      "source": [
        "h_ada_implicit,1/h_ada_implicit"
      ],
      "metadata": {
        "colab": {
          "base_uri": "https://localhost:8080/"
        },
        "outputId": "0bcd55e3-db1d-4b4e-fd9b-38e09ce7aafa",
        "id": "E5OSr7j-O_RM"
      },
      "execution_count": 106,
      "outputs": [
        {
          "output_type": "execute_result",
          "data": {
            "text/plain": [
              "(0.1, 10.0)"
            ]
          },
          "metadata": {},
          "execution_count": 106
        }
      ]
    },
    {
      "cell_type": "code",
      "source": [
        "for x_val,y_val in zip(x_vals_ada_implicit,y_vals_ada_implicit):\n",
        "    print(f\"{round(x_val,4)} {round(y_val,4)}\")"
      ],
      "metadata": {
        "colab": {
          "base_uri": "https://localhost:8080/"
        },
        "outputId": "3d8f789e-00b4-488b-885a-45152e99def2",
        "id": "Prso9Lp1O_RM"
      },
      "execution_count": 107,
      "outputs": [
        {
          "output_type": "stream",
          "name": "stdout",
          "text": [
            "0.0 0\n",
            "0.1 0.0882\n",
            "0.2 0.1702\n",
            "0.3 0.2419\n",
            "0.4 0.3023\n",
            "0.5 0.3523\n",
            "0.6 0.3933\n",
            "0.7 0.4271\n",
            "0.8 0.4551\n",
            "0.9 0.4785\n",
            "1.0 0.4982\n"
          ]
        }
      ]
    },
    {
      "cell_type": "code",
      "source": [
        ""
      ],
      "metadata": {
        "id": "UfvaH3rJPBMY"
      },
      "execution_count": null,
      "outputs": []
    },
    {
      "cell_type": "code",
      "source": [
        ""
      ],
      "metadata": {
        "id": "Lmex4jNJPBOr"
      },
      "execution_count": null,
      "outputs": []
    },
    {
      "cell_type": "code",
      "source": [
        "x_vals_ada_implicit_k1,y_vals_ada_implicit_k1,h_ada_implicit_k1=Adams_implicit_k1(eq,0,d)"
      ],
      "metadata": {
        "id": "2i10M8DtO_RM"
      },
      "execution_count": 113,
      "outputs": []
    },
    {
      "cell_type": "code",
      "source": [
        "h_ada_implicit_k1,1/h_ada_implicit_k1"
      ],
      "metadata": {
        "colab": {
          "base_uri": "https://localhost:8080/"
        },
        "outputId": "e269d51a-2a42-4269-dc20-366f7dd594cf",
        "id": "p-azGneEO_RM"
      },
      "execution_count": 114,
      "outputs": [
        {
          "output_type": "execute_result",
          "data": {
            "text/plain": [
              "(0.05, 20.0)"
            ]
          },
          "metadata": {},
          "execution_count": 114
        }
      ]
    },
    {
      "cell_type": "code",
      "source": [
        "for x_val,y_val in zip(x_vals_ada_implicit_k1,y_vals_ada_implicit_k1):\n",
        "    print(f\"{round(x_val,4)} {round(y_val,4)}\")"
      ],
      "metadata": {
        "colab": {
          "base_uri": "https://localhost:8080/"
        },
        "outputId": "c6512d9e-4f77-4c49-ac7d-5a51ddfe32aa",
        "id": "zgrwkjXHO_RN"
      },
      "execution_count": 115,
      "outputs": [
        {
          "output_type": "stream",
          "name": "stdout",
          "text": [
            "0.0 0\n",
            "0.05 0.0445\n",
            "0.1 0.0878\n",
            "0.15 0.1290\n",
            "0.2 0.1678\n",
            "0.25 0.2038\n",
            "0.3 0.2370\n",
            "0.35 0.2673\n",
            "0.4 0.2949\n",
            "0.45 0.3200\n",
            "0.5 0.3428\n",
            "0.55 0.3635\n",
            "0.6 0.3823\n",
            "0.65 0.3993\n",
            "0.7 0.4149\n",
            "0.75 0.4291\n",
            "0.8 0.4420\n",
            "0.85 0.4539\n",
            "0.9 0.4648\n",
            "0.95 0.4748\n",
            "1.0 0.4840\n"
          ]
        }
      ]
    },
    {
      "cell_type": "code",
      "source": [
        "for i in range(0,len(x_vals_ada_implicit_k1),2):\n",
        "    print(f\"{round(x_vals_ada_implicit_k1[i],4)} {round(y_vals_ada_implicit_k1[i],4)}\")"
      ],
      "metadata": {
        "colab": {
          "base_uri": "https://localhost:8080/"
        },
        "id": "o1yDv8xqXTnr",
        "outputId": "81ba9f6f-b97c-45e7-bd07-691f2ce70143"
      },
      "execution_count": 125,
      "outputs": [
        {
          "output_type": "stream",
          "name": "stdout",
          "text": [
            "0.0 0\n",
            "0.1 0.0878\n",
            "0.2 0.1678\n",
            "0.3 0.2370\n",
            "0.4 0.2949\n",
            "0.5 0.3428\n",
            "0.6 0.3823\n",
            "0.7 0.4149\n",
            "0.8 0.4420\n",
            "0.9 0.4648\n",
            "1.0 0.4840\n"
          ]
        }
      ]
    },
    {
      "cell_type": "code",
      "source": [
        ""
      ],
      "metadata": {
        "id": "mjkYCA5yPCd2"
      },
      "execution_count": null,
      "outputs": []
    },
    {
      "cell_type": "code",
      "source": [
        "x_vals_ada_implicit_k3,y_vals_ada_implicit_k3,h_ada_implicit_k3=Adams_implicit_k3(eq,0,d)"
      ],
      "metadata": {
        "id": "ZgzapkjBO_RN"
      },
      "execution_count": 109,
      "outputs": []
    },
    {
      "cell_type": "code",
      "source": [
        "h_ada_implicit_k3,1/h_ada_implicit_k3"
      ],
      "metadata": {
        "colab": {
          "base_uri": "https://localhost:8080/"
        },
        "outputId": "d93ff517-d0f5-47dc-dcca-3a56f34870f9",
        "id": "bs-4lXaCO_RN"
      },
      "execution_count": 110,
      "outputs": [
        {
          "output_type": "execute_result",
          "data": {
            "text/plain": [
              "(0.1, 10.0)"
            ]
          },
          "metadata": {},
          "execution_count": 110
        }
      ]
    },
    {
      "cell_type": "code",
      "source": [
        "for x_val,y_val in zip(x_vals_ada_implicit_k3,y_vals_ada_implicit_k3):\n",
        "    print(f\"{round(x_val,4)} {round(y_val,4)}\")"
      ],
      "metadata": {
        "colab": {
          "base_uri": "https://localhost:8080/"
        },
        "outputId": "6eb35cf5-8bea-4e70-90d3-5fca2f1f14e8",
        "id": "UoBmjXOEO_RN"
      },
      "execution_count": 111,
      "outputs": [
        {
          "output_type": "stream",
          "name": "stdout",
          "text": [
            "0.0 0\n",
            "0.1 0.0888\n",
            "0.2 0.1712\n",
            "0.3 0.2430\n",
            "0.4 0.3034\n",
            "0.5 0.3531\n",
            "0.6 0.3940\n",
            "0.7 0.4276\n",
            "0.8 0.4555\n",
            "0.9 0.4788\n",
            "1.0 0.4984\n"
          ]
        }
      ]
    },
    {
      "cell_type": "code",
      "source": [
        ""
      ],
      "metadata": {
        "id": "gh9C2zJKPC-M"
      },
      "execution_count": null,
      "outputs": []
    },
    {
      "cell_type": "code",
      "source": [
        ""
      ],
      "metadata": {
        "id": "C-nkPFc5PDAU"
      },
      "execution_count": null,
      "outputs": []
    },
    {
      "cell_type": "code",
      "source": [
        "plt.Figure(figsize=(20,20))\n",
        "plt.plot(x_vals,y_vals,color=\"g\")\n",
        "plt.plot(x_vals_ada_explicit,y_vals_ada_explicit,color=\"y\")\n",
        "plt.plot(x_vals_ada_implicit,y_vals_ada_implicit,'go--',color=\"r\")\n",
        "plt.plot(x_vals_ada_implicit_k1,y_vals_ada_implicit_k1,\"rs\",color=\"b\")\n",
        "plt.plot(x_vals_ada_implicit_k3,y_vals_ada_implicit_k3,\"o\",color=\"orange\")\n",
        "plt.show()"
      ],
      "metadata": {
        "colab": {
          "base_uri": "https://localhost:8080/",
          "height": 265
        },
        "outputId": "3ab5d68f-de86-40f5-ab36-1ea08c3dbe60",
        "id": "TTmSgeThO_RN"
      },
      "execution_count": 116,
      "outputs": [
        {
          "output_type": "display_data",
          "data": {
            "text/plain": [
              "<Figure size 432x288 with 1 Axes>"
            ],
            "image/png": "[encoded data removed]"
          },
          "metadata": {
            "needs_background": "light"
          }
        }
      ]
    },
    {
      "cell_type": "code",
      "source": [
        ""
      ],
      "metadata": {
        "id": "FCyDFYZ7O4zy"
      },
      "execution_count": null,
      "outputs": []
    }
  ]
}