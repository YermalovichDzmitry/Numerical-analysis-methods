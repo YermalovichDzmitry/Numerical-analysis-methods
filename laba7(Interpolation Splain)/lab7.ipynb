{
  "nbformat": 4,
  "nbformat_minor": 0,
  "metadata": {
    "colab": {
      "name": "lab7",
      "provenance": [],
      "collapsed_sections": []
    },
    "kernelspec": {
      "name": "python3",
      "display_name": "Python 3"
    },
    "language_info": {
      "name": "python"
    }
  },
  "cells": [
    {
      "cell_type": "code",
      "execution_count": null,
      "metadata": {
        "id": "lMA0jBFH-lr2"
      },
      "outputs": [],
      "source": [
        "import numpy as np\n",
        "import sympy as sp\n",
        "import copy\n",
        "import matplotlib.pyplot as plt\n",
        "from matplotlib.pyplot import figure\n",
        "import math"
      ]
    },
    {
      "cell_type": "code",
      "source": [
        "x = sp.symbols('x')\n",
        "x_o = sp.symbols('x_o')\n",
        "a = sp.symbols('a')\n",
        "b = sp.symbols('b')\n",
        "c = sp.symbols('c')\n",
        "d = sp.symbols('d')\n",
        "f=sp.tanh(x)\n",
        "x_vals=np.arange(0,2.01,0.4)\n",
        "y_vals=[f.subs(x,x_val) for x_val in x_vals]"
      ],
      "metadata": {
        "id": "ejHzjhba-o5M"
      },
      "execution_count": null,
      "outputs": []
    },
    {
      "cell_type": "code",
      "source": [
        "a_val=[0.,.37994,0.66403,0.83365,0.96166]\n",
        "b_val=[.9940047847,.8615404306,.5400584928,.3810505981,.1679641148]\n",
        "c_val=[0.,-.3311608852,-.4725439593,0.7502422249e-1,-.6077404306]\n",
        "d_val=[-.2759674043,-.1178192285,.4563068182,-.5689705443,.5064503589]"
      ],
      "metadata": {
        "id": "ahZPMFB1RjoS"
      },
      "execution_count": null,
      "outputs": []
    },
    {
      "cell_type": "code",
      "source": [
        "splain=a+b*(x-x_o)+c*(x-x_o)**2+d*(x-x_o)**3"
      ],
      "metadata": {
        "id": "UwZba1AZR_rf"
      },
      "execution_count": null,
      "outputs": []
    },
    {
      "cell_type": "code",
      "source": [
        "splain"
      ],
      "metadata": {
        "colab": {
          "base_uri": "https://localhost:8080/",
          "height": 39
        },
        "id": "qe9oX4mtUqWT",
        "outputId": "1a0ffe96-4bc9-4e39-a275-c511b90b095d"
      },
      "execution_count": null,
      "outputs": [
        {
          "output_type": "execute_result",
          "data": {
            "text/plain": [
              "a + b*(x - x_o) + c*(x - x_o)**2 + d*(x - x_o)**3"
            ],
            "text/latex": "$\\displaystyle a + b \\left(x - x_{o}\\right) + c \\left(x - x_{o}\\right)^{2} + d \\left(x - x_{o}\\right)^{3}$"
          },
          "metadata": {},
          "execution_count": 5
        }
      ]
    },
    {
      "cell_type": "code",
      "source": [
        "def plot_graphic(x_vals,a_val,b_val,c_val,d_val):\n",
        "    x_vals_0=np.arange(x_vals[0],x_vals[1]+0.01,0.01)\n",
        "    x_vals_1=np.arange(x_vals[1],x_vals[2]+0.01,0.01)\n",
        "    x_vals_2=np.arange(x_vals[2],x_vals[3]+0.01,0.01)\n",
        "    x_vals_3=np.arange(x_vals[3],x_vals[4]+0.01,0.01)\n",
        "    x_vals_4=np.arange(x_vals[4],x_vals[5]+0.01,0.01)\n",
        "\n",
        "    y_vals_0=[splain.subs([(a,a_val[0]),(b,b_val[0]),(c,c_val[0]),(d,d_val[0]),(x_o,x_vals[0]),(x,x_val)]) for x_val in x_vals_0]\n",
        "    y_vals_1=[splain.subs([(a,a_val[1]),(b,b_val[1]),(c,c_val[1]),(d,d_val[1]),(x_o,x_vals[1]),(x,x_val)]) for x_val in x_vals_1]\n",
        "    y_vals_2=[splain.subs([(a,a_val[2]),(b,b_val[2]),(c,c_val[2]),(d,d_val[2]),(x_o,x_vals[2]),(x,x_val)]) for x_val in x_vals_2]\n",
        "    y_vals_3=[splain.subs([(a,a_val[3]),(b,b_val[3]),(c,c_val[3]),(d,d_val[3]),(x_o,x_vals[3]),(x,x_val)]) for x_val in x_vals_3]\n",
        "    y_vals_4=[splain.subs([(a,a_val[4]),(b,b_val[4]),(c,c_val[4]),(d,d_val[4]),(x_o,x_vals[4]),(x,x_val)]) for x_val in x_vals_4]\n",
        "\n",
        "    figure(figsize=(10,10))\n",
        "\n",
        "    plt.plot(x_vals_0,y_vals_0,color='red')\n",
        "    plt.plot(x_vals_1,y_vals_1,color='blue')\n",
        "    plt.plot(x_vals_2,y_vals_2,color='orange')\n",
        "    plt.plot(x_vals_3,y_vals_3,color='green')\n",
        "    plt.plot(x_vals_4,y_vals_4,color='yellow')\n",
        "    \n",
        "    x_vals_origin=np.arange(0,2.01,0.01)\n",
        "    y_vals_origin=[math.tanh(x_val_origin) for x_val_origin in x_vals_origin]\n",
        "    plt.plot(x_vals_origin,y_vals_origin,'--',color='black')\n",
        "\n",
        "    plt.show()"
      ],
      "metadata": {
        "id": "Mkiuj5DFXGcW"
      },
      "execution_count": null,
      "outputs": []
    },
    {
      "cell_type": "code",
      "source": [
        "plot_graphic(x_vals,a_val,b_val,c_val,d_val)"
      ],
      "metadata": {
        "colab": {
          "base_uri": "https://localhost:8080/",
          "height": 592
        },
        "id": "pFV0rP0xXUpJ",
        "outputId": "09596e61-eeea-4952-e15b-1cc5b4274bf4"
      },
      "execution_count": null,
      "outputs": [
        {
          "output_type": "display_data",
          "data": {
            "text/plain": [
              "<Figure size 720x720 with 1 Axes>"
            ],
            "image/png": "[encoded data removed]"
          },
          "metadata": {
            "needs_background": "light"
          }
        }
      ]
    },
    {
      "cell_type": "code",
      "source": [
        ""
      ],
      "metadata": {
        "id": "w1t0z5mRdGeF"
      },
      "execution_count": null,
      "outputs": []
    },
    {
      "cell_type": "code",
      "source": [
        "def calc_value(x_vals,a_val,b_val,c_val,d_val):\n",
        "    return splain.subs([(a,a_val[2]),(b,b_val[2]),(c,c_val[2]),(d,d_val[2]),(x_o,x_vals[2]),(x,1)])"
      ],
      "metadata": {
        "id": "WxR6c_5ddH-j"
      },
      "execution_count": null,
      "outputs": []
    },
    {
      "cell_type": "code",
      "source": [
        "cur_val = calc_value(x_vals,a_val,b_val,c_val,d_val)\n",
        "round(cur_val,4)"
      ],
      "metadata": {
        "colab": {
          "base_uri": "https://localhost:8080/",
          "height": 37
        },
        "id": "hh8ADfh6cyof",
        "outputId": "b020446f-17d6-406d-e47e-68961cb99d50"
      },
      "execution_count": null,
      "outputs": [
        {
          "output_type": "execute_result",
          "data": {
            "text/plain": [
              "0.7568"
            ],
            "text/latex": "$\\displaystyle 0.7568$"
          },
          "metadata": {},
          "execution_count": 12
        }
      ]
    },
    {
      "cell_type": "code",
      "source": [
        "delta = abs(cur_val-0.7616)"
      ],
      "metadata": {
        "id": "lRk_JDPYeQ6v"
      },
      "execution_count": null,
      "outputs": []
    },
    {
      "cell_type": "code",
      "source": [
        "round(delta,5)"
      ],
      "metadata": {
        "colab": {
          "base_uri": "https://localhost:8080/",
          "height": 37
        },
        "id": "klIujqrcec8l",
        "outputId": "d598d628-a7ae-423f-caa5-354e0d874b9b"
      },
      "execution_count": null,
      "outputs": [
        {
          "output_type": "execute_result",
          "data": {
            "text/plain": [
              "0.00481"
            ],
            "text/latex": "$\\displaystyle 0.00481$"
          },
          "metadata": {},
          "execution_count": 11
        }
      ]
    }
  ]
}