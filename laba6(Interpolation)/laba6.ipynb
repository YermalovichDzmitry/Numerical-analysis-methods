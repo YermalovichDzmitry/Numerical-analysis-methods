{
  "nbformat": 4,
  "nbformat_minor": 0,
  "metadata": {
    "colab": {
      "name": "laba6.ipynb",
      "provenance": [],
      "collapsed_sections": []
    },
    "kernelspec": {
      "name": "python3",
      "display_name": "Python 3"
    },
    "language_info": {
      "name": "python"
    }
  },
  "cells": [
    {
      "cell_type": "code",
      "source": [
        "import numpy as np\n",
        "import sympy as sp\n",
        "import copy\n",
        "import matplotlib.pyplot as plt\n",
        "import math"
      ],
      "metadata": {
        "id": "Yg6iKl7XT6Ll"
      },
      "execution_count": null,
      "outputs": []
    },
    {
      "cell_type": "code",
      "execution_count": null,
      "metadata": {
        "id": "3Ur0_3vBTPld"
      },
      "outputs": [],
      "source": [
        "x_vals = [0.0, 0.1, 0.2, 0.3, 0.4, 0.5, 0.6, 0.7, 0.8, 0.9, 1.0]\n",
        "p_vals = [0.0, 0.41, 0.79, 1.13, 1.46, 1.76, 2.04, 2.3, 2.55, 2.79, 3.01]\n",
        "k = 8\n",
        "m = 4\n",
        "y_vals = [ (p_vals[i] + ((-1) ** k) * m) for i in range(len(x_vals))]"
      ]
    },
    {
      "cell_type": "code",
      "source": [
        "x_vals = [0.0, 0.1, 0.2, 0.3, 0.4, 0.5, 0.6, 0.7, 0.8, 0.9, 1.0]\n",
        "p_vals = [0.0, 0.41, 0.79, 1.13, 1.46, 1.76, 2.04, 2.3, 2.55, 2.79, 3.01]\n",
        "k = 8\n",
        "m = 4\n",
        "y_vals = [ (p_vals[i] + ((-1) ** k) * m) for i in range(len(x_vals))]\n",
        "y_vals[1]+=0.1\n",
        "y_vals[3]+=0.1\n",
        "y_vals[7]+=0.01"
      ],
      "metadata": {
        "id": "JmOnrNXq6h7w"
      },
      "execution_count": null,
      "outputs": []
    },
    {
      "cell_type": "code",
      "source": [
        "def my_func(x_val,k,m):\n",
        "  return x_val + ((-1) ** k) * m"
      ],
      "metadata": {
        "id": "Ohd2aVBU7ILp"
      },
      "execution_count": null,
      "outputs": []
    },
    {
      "cell_type": "code",
      "source": [
        "x = sp.symbols('x')\n",
        "y = sp.symbols('y')"
      ],
      "metadata": {
        "id": "WQiBtPrBTTS9"
      },
      "execution_count": null,
      "outputs": []
    },
    {
      "cell_type": "code",
      "source": [
        "def chebyshev_alternance(x_vals,y_vals,polinom_exp):\n",
        "    for i,x_val in enumerate(x_vals):\n",
        "        print(polinom_exp.subs(x,x_val)-y_vals[i])\n",
        "    return 0"
      ],
      "metadata": {
        "id": "e5tjKKNcmLpO"
      },
      "execution_count": null,
      "outputs": []
    },
    {
      "cell_type": "code",
      "source": [
        "def inter_error(x_vals):\n",
        "    polinom=1\n",
        "    n=len(x_vals)\n",
        "    for x_val in x_vals:\n",
        "        polinom=polinom*(x-x_val)\n",
        "    polinom_vals=[]\n",
        "    koefs=np.arange(0,1,0.01)\n",
        "    for koef in koefs:\n",
        "        polinom_vals.append(abs(polinom.subs(x,koef)))\n",
        "    return max(polinom_vals)/math.factorial(n+1)"
      ],
      "metadata": {
        "id": "DgU1TVjdhipq"
      },
      "execution_count": null,
      "outputs": []
    },
    {
      "cell_type": "code",
      "source": [
        "koef=inter_error(x_vals)\n",
        "koef"
      ],
      "metadata": {
        "colab": {
          "base_uri": "https://localhost:8080/",
          "height": 38
        },
        "id": "ooHM8bm-jqHV",
        "outputId": "890c774c-a8b3-4555-e081-6ece3596f10c"
      },
      "execution_count": null,
      "outputs": [
        {
          "output_type": "execute_result",
          "data": {
            "text/plain": [
              "8.68412305088672e-15"
            ],
            "text/latex": "$\\displaystyle 8.68412305088672 \\cdot 10^{-15}$"
          },
          "metadata": {},
          "execution_count": 15
        }
      ]
    },
    {
      "cell_type": "code",
      "source": [
        "def inter_error_lagrange(x_vals,lagrange_exp):\n",
        "  polynomial=1\n",
        "  for x_val in x_vals:\n",
        "    polynomial=polynomial*(x-x_val)\n",
        "  m_l=sp.diff(lagrange_exp,x,len(x_vals)+1)\n",
        "\n",
        "  arg_l=[]\n",
        "  if m_l!=0:\n",
        "    for x_val in x_vals:\n",
        "      arg_l=m_l.subs(x,x_val)\n",
        "    m_l=max(arg_l)\n",
        "  else:\n",
        "    return 0\n",
        "\n",
        "  return m_l*polynomial/math.factorial"
      ],
      "metadata": {
        "id": "ZW_z97WWzY7q"
      },
      "execution_count": null,
      "outputs": []
    },
    {
      "cell_type": "code",
      "source": [
        "def inter_error_newton(x_vals,newton_exp):\n",
        "  polynomial=1\n",
        "  for x_val in x_vals:\n",
        "    polynomial=polynomial*(x-x_val)\n",
        "  m_n=sp.diff(newton_exp,x,len(x_vals)+1)\n",
        "\n",
        "  arg_l=[]\n",
        "  if m_n!=0:\n",
        "    for x_val in x_vals:\n",
        "      arg_l=m_n.subs(x,x_val)\n",
        "      m_n=max(arg_l)\n",
        "  else:\n",
        "    return 0\n",
        "\n",
        "  return m_n*polynomial/math.factorial"
      ],
      "metadata": {
        "id": "rbWWcbf53O46"
      },
      "execution_count": null,
      "outputs": []
    },
    {
      "cell_type": "code",
      "source": [
        "def plot_func(lagrange_exp,newton_exp,x_vals,y_vals):\n",
        "  plt.plot(x_vals,y_vals,'-',color='r',label='Main')\n",
        "\n",
        "  y_lag=[]\n",
        "  for x_val in x_vals:\n",
        "    y_lag.append(lagrange_exp.subs(x,x_val))\n",
        "  plt.plot(x_vals,y_lag,'v',color='g',label='Lagrange')\n",
        "\n",
        "  y_newt=[]\n",
        "  for x_val in x_vals:\n",
        "    y_newt.append(newton_exp.subs(x,x_val))\n",
        "  plt.plot(x_vals,y_newt,'--',color='b',label='Newton')\n",
        "\n",
        "  plt.ylabel('f(x)')\n",
        "  plt.xlabel('x')\n",
        "  plt.legend()\n",
        "  plt.show()"
      ],
      "metadata": {
        "id": "Y-1aETllvO9v"
      },
      "execution_count": null,
      "outputs": []
    },
    {
      "cell_type": "code",
      "source": [
        "def P_k_x(x_vals,k):\n",
        "  polynomial=1\n",
        "\n",
        "  for x_val in x_vals:\n",
        "    if x_val!=x_vals[k]:\n",
        "      polynomial=polynomial*(x-x_val)\n",
        "\n",
        "  koef=1\n",
        "  for i in range(len(x_vals)):\n",
        "      if i!=k:\n",
        "        koef=koef*(x_vals[k]-x_vals[i])\n",
        "\n",
        "  return sp.expand(polynomial)/koef"
      ],
      "metadata": {
        "id": "cfWRLjyRUT09"
      },
      "execution_count": null,
      "outputs": []
    },
    {
      "cell_type": "code",
      "source": [
        "def lagrange(y_vals,x_vals):\n",
        "  ans=0\n",
        "  for i in range(len(x_vals)):\n",
        "    ans+=y_vals[i]*P_k_x(x_vals,i)\n",
        "  return ans"
      ],
      "metadata": {
        "id": "N4REycMWW3Fn"
      },
      "execution_count": null,
      "outputs": []
    },
    {
      "cell_type": "code",
      "source": [
        "lagrange_exp=lagrange(y_vals,x_vals)"
      ],
      "metadata": {
        "id": "PEseFrbSaa-E"
      },
      "execution_count": null,
      "outputs": []
    },
    {
      "cell_type": "code",
      "source": [
        ""
      ],
      "metadata": {
        "id": "_D-RIQcAabDN"
      },
      "execution_count": null,
      "outputs": []
    },
    {
      "cell_type": "code",
      "source": [
        ""
      ],
      "metadata": {
        "id": "QUP9ZG5BabIx"
      },
      "execution_count": null,
      "outputs": []
    },
    {
      "cell_type": "code",
      "source": [
        "def divided_difference(x_vals,y_vals):\n",
        "  if len(x_vals)==2:\n",
        "    if y_vals[0] is None:\n",
        "      return (y_vals[1]-my_func(x,8,4))/(x_vals[1]-x_vals[0])\n",
        "    else:\n",
        "      return (y_vals[1]-y_vals[0])/(x_vals[1]-x_vals[0])\n",
        "  return (divided_difference(x_vals[1:],y_vals[1:])-divided_difference(x_vals[0:len(x_vals)-1],y_vals[0:len(x_vals)-1]))/(x_vals[len(x_vals)-1]-x_vals[0])"
      ],
      "metadata": {
        "id": "-aewKjsyabLY"
      },
      "execution_count": null,
      "outputs": []
    },
    {
      "cell_type": "code",
      "source": [
        "def Newton(x_vals,y_vals):\n",
        "  polynomial=y_vals[0]\n",
        "  dd=0\n",
        "  for i in range(len(x_vals)-1):\n",
        "    dd=divided_difference(x_vals[0:i+2],y_vals[0:i+2])\n",
        "    for j in range(len(x_vals[0:i+2])-1):\n",
        "      dd=dd*(x-x_vals[j])\n",
        "    polynomial+=dd\n",
        "  return polynomial"
      ],
      "metadata": {
        "id": "fgDVszokmmCJ"
      },
      "execution_count": null,
      "outputs": []
    },
    {
      "cell_type": "code",
      "source": [
        "newton_exp=Newton(x_vals,y_vals)"
      ],
      "metadata": {
        "id": "2ALOW5ekoI_c"
      },
      "execution_count": null,
      "outputs": []
    },
    {
      "cell_type": "code",
      "source": [
        "x_vals_extend=x_vals\n",
        "y_vals_extend=y_vals\n",
        "\n",
        "x_vals_extend.insert(0,x)\n",
        "y_vals_extend.insert(0,None)"
      ],
      "metadata": {
        "id": "OR92X0FqkGoq"
      },
      "execution_count": null,
      "outputs": []
    },
    {
      "cell_type": "code",
      "source": [
        "N_newt=newton_exp\n",
        "\n",
        "polinom=sp.simplify(divided_difference(x_vals_extend,y_vals_extend))\n",
        "for x_val in x_vals:\n",
        "  polinom=polinom*(x-x_val)\n",
        "print(polinom)\n",
        "N_newt+=polinom"
      ],
      "metadata": {
        "colab": {
          "base_uri": "https://localhost:8080/"
        },
        "id": "z0bUE1EDe2fK",
        "outputId": "19634a67-9b97-405c-d7ae-c7ed119e4d85"
      },
      "execution_count": null,
      "outputs": [
        {
          "output_type": "stream",
          "name": "stdout",
          "text": [
            "0\n"
          ]
        }
      ]
    },
    {
      "cell_type": "code",
      "source": [
        "plot_func(lagrange_exp,newton_exp,x_vals,y_vals)"
      ],
      "metadata": {
        "id": "URCTnIalwPUl"
      },
      "execution_count": null,
      "outputs": []
    },
    {
      "cell_type": "code",
      "source": [
        ""
      ],
      "metadata": {
        "id": "U-4TgarwxMdz"
      },
      "execution_count": null,
      "outputs": []
    },
    {
      "cell_type": "code",
      "source": [
        "def Main(x_vals,y_vals):\n",
        "  newton_exp=Newton(x_vals,y_vals)\n",
        "  print(f\"Newton polinom = {sp.expand(newton_exp)}\\n\")\n",
        "  print(f\"Newton_polino(0.47) = {round(newton_exp.subs(x,0.47),11)}\\n\")\n",
        "  print(\"====================================================\\n\")\n",
        "  lagrange_exp=lagrange(y_vals,x_vals)\n",
        "  print(f\"Lagrange polinom = {lagrange_exp}\\n\")\n",
        "  print(f\"Lagrange_polino(0.47) = {round(lagrange_exp.subs(x,0.47),11)}\\n\\n\")\n",
        "  plot_func(lagrange_exp,newton_exp,x_vals,y_vals)\n",
        "  return newton_exp.subs(x,0.47),lagrange_exp.subs(x,0.47)"
      ],
      "metadata": {
        "id": "c_iJCr8z4OwO"
      },
      "execution_count": null,
      "outputs": []
    },
    {
      "cell_type": "code",
      "source": [
        "newton_exp_1,lagrange_exp_1=Main(x_vals,y_vals)"
      ],
      "metadata": {
        "colab": {
          "base_uri": "https://localhost:8080/",
          "height": 490
        },
        "id": "SUO7P-a45C0y",
        "outputId": "206d2bea-14c9-4158-aeb2-11b9fb170ca2"
      },
      "execution_count": null,
      "outputs": [
        {
          "output_type": "stream",
          "name": "stdout",
          "text": [
            "Newton polinom = 3279.32098765448*x**10 - 16823.7433862442*x**9 + 37136.2433862451*x**8 - 46113.5912698433*x**7 + 35322.1643518533*x**6 - 17192.6215277784*x**5 + 5268.12692901254*x**4 - 966.267030423313*x**3 + 92.7493452380982*x**2 + 0.628214285714181*x + 4.0\n",
            "\n",
            "Newton_polino(0.47) = 5.67265207971\n",
            "\n",
            "====================================================\n",
            "\n",
            "Lagrange polinom = 3279.32098765372*x**10 - 16823.7433862448*x**9 + 37136.2433862277*x**8 - 46113.5912698439*x**7 + 35322.1643518456*x**6 - 17192.6215277652*x**5 + 5268.12692901021*x**4 - 966.267030422622*x**3 + 92.7493452380729*x**2 + 0.628214285715162*x + 4.0\n",
            "\n",
            "Lagrange_polino(0.47) = 5.67265207984\n",
            "\n",
            "\n"
          ]
        },
        {
          "output_type": "display_data",
          "data": {
            "text/plain": [
              "<Figure size 432x288 with 1 Axes>"
            ],
            "image/png": "[encoded data removed]"
          },
          "metadata": {
            "needs_background": "light"
          }
        }
      ]
    },
    {
      "cell_type": "code",
      "source": [
        "newton_exp_2,lagrange_exp_2=Main(x_vals,y_vals)"
      ],
      "metadata": {
        "colab": {
          "base_uri": "https://localhost:8080/",
          "height": 490
        },
        "id": "763Bm5sg7ZDU",
        "outputId": "7d871680-08f3-45b8-ebcc-bdb61e4051e0"
      },
      "execution_count": null,
      "outputs": [
        {
          "output_type": "stream",
          "name": "stdout",
          "text": [
            "Newton polinom = -35852.0723104053*x**10 + 185887.896825395*x**9 - 415211.640211636*x**8 + 522378.472222218*x**7 - 405926.678240737*x**6 + 200742.795138887*x**5 - 62632.8408840383*x**4 + 11750.898313492*x**3 - 1186.16335317459*x**2 + 52.3424999999997*x + 4.0\n",
            "\n",
            "Newton_polino(0.47) = 5.66558115259\n",
            "\n",
            "====================================================\n",
            "\n",
            "Lagrange polinom = -35852.0723104062*x**10 + 185887.896825393*x**9 - 415211.640211649*x**8 + 522378.472222216*x**7 - 405926.678240742*x**6 + 200742.795138901*x**5 - 62632.8408840404*x**4 + 11750.8983134926*x**3 - 1186.16335317461*x**2 + 52.3425000000009*x + 4.0\n",
            "\n",
            "Lagrange_polino(0.47) = 5.66558115277\n",
            "\n",
            "\n"
          ]
        },
        {
          "output_type": "display_data",
          "data": {
            "text/plain": [
              "<Figure size 432x288 with 1 Axes>"
            ],
            "image/png": "[encoded data removed]"
          },
          "metadata": {
            "needs_background": "light"
          }
        }
      ]
    },
    {
      "cell_type": "code",
      "source": [
        "round(abs(abs(newton_exp_1)-abs(newton_exp_2)),11)"
      ],
      "metadata": {
        "colab": {
          "base_uri": "https://localhost:8080/",
          "height": 37
        },
        "id": "CiIjbU2y7pPw",
        "outputId": "3a157742-f073-4b0b-e6eb-42a3291a06d4"
      },
      "execution_count": null,
      "outputs": [
        {
          "output_type": "execute_result",
          "data": {
            "text/plain": [
              "0.00707092712"
            ],
            "text/latex": "$\\displaystyle 0.00707092712$"
          },
          "metadata": {},
          "execution_count": 92
        }
      ]
    },
    {
      "cell_type": "code",
      "source": [
        "round(abs(abs(lagrange_exp_1)-abs(lagrange_exp_2)),12)"
      ],
      "metadata": {
        "colab": {
          "base_uri": "https://localhost:8080/",
          "height": 37
        },
        "id": "C_hdRkkN7u4_",
        "outputId": "09b995cf-598c-4c49-c331-74141900ce0f"
      },
      "execution_count": null,
      "outputs": [
        {
          "output_type": "execute_result",
          "data": {
            "text/plain": [
              "0.007070927070"
            ],
            "text/latex": "$\\displaystyle 0.00707092707$"
          },
          "metadata": {},
          "execution_count": 91
        }
      ]
    },
    {
      "cell_type": "code",
      "source": [
        ""
      ],
      "metadata": {
        "id": "NaC9LpGOm4_H"
      },
      "execution_count": null,
      "outputs": []
    },
    {
      "cell_type": "code",
      "source": [
        "chebyshev_alternance(x_vals,y_vals,lagrange_exp)"
      ],
      "metadata": {
        "colab": {
          "base_uri": "https://localhost:8080/"
        },
        "id": "BmV9hIGPm5Cr",
        "outputId": "90156bf5-e691-47db-8f15-98784ea96a68"
      },
      "execution_count": null,
      "outputs": [
        {
          "output_type": "stream",
          "name": "stdout",
          "text": [
            "0\n",
            "4.28101998295460e-13\n",
            "4.68514116391816e-12\n",
            "2.31237251568928e-11\n",
            "7.24549309438771e-11\n",
            "1.53923096490871e-10\n",
            "1.88683735302675e-10\n",
            "-1.15778497900010e-10\n",
            "-1.51048862306880e-9\n",
            "-5.61616619876304e-9\n",
            "-1.55394079826010e-8\n"
          ]
        },
        {
          "output_type": "execute_result",
          "data": {
            "text/plain": [
              "0"
            ]
          },
          "metadata": {},
          "execution_count": 22
        }
      ]
    },
    {
      "cell_type": "code",
      "source": [
        "chebyshev_alternance(x_vals,y_vals,newton_exp)"
      ],
      "metadata": {
        "id": "3KtCGqN9nMEL",
        "outputId": "a8dfa460-3f8d-4ba8-c1e8-d3954dff0ec3",
        "colab": {
          "base_uri": "https://localhost:8080/"
        }
      },
      "execution_count": null,
      "outputs": [
        {
          "output_type": "stream",
          "name": "stdout",
          "text": [
            "0\n",
            "0\n",
            "0\n",
            "0\n",
            "0\n",
            "0\n",
            "0\n",
            "0\n",
            "0\n",
            "-2.66453525910038e-15\n",
            "5.32907051820075e-15\n"
          ]
        },
        {
          "output_type": "execute_result",
          "data": {
            "text/plain": [
              "0"
            ]
          },
          "metadata": {},
          "execution_count": 26
        }
      ]
    }
  ]
}